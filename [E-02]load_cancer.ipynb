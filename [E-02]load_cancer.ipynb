{
 "cells": [
  {
   "cell_type": "markdown",
   "id": "eafafbf1",
   "metadata": {},
   "source": [
    "# [E-02} 과제"
   ]
  },
  {
   "cell_type": "markdown",
   "id": "d4839ac8",
   "metadata": {},
   "source": [
    "## 손글씨 분류하기"
   ]
  },
  {
   "cell_type": "markdown",
   "id": "b5115bfa",
   "metadata": {},
   "source": [
    "### 데이터\n",
    "#### 데이터 준비"
   ]
  },
  {
   "cell_type": "code",
   "execution_count": 2,
   "id": "cfd475f2",
   "metadata": {
    "ExecuteTime": {
     "end_time": "2022-01-13T13:32:51.676055Z",
     "start_time": "2022-01-13T13:32:49.802409Z"
    }
   },
   "outputs": [],
   "source": [
    "# 필요한 모듈 Import\n",
    "from sklearn.datasets import load_digits\n",
    "from sklearn.model_selection import train_test_split\n",
    "from sklearn.metrics import classification_report\n",
    "\n",
    "digits = load_digits()  # 인스턴스 = 클래스()\n",
    "digits_data = digits.data\n",
    "digits_label = digits.target"
   ]
  },
  {
   "cell_type": "markdown",
   "id": "ec4a7a70",
   "metadata": {},
   "source": [
    "#### train, Test 데이터 분리"
   ]
  },
  {
   "cell_type": "code",
   "execution_count": 3,
   "id": "76d37239",
   "metadata": {
    "ExecuteTime": {
     "end_time": "2022-01-13T13:32:53.951084Z",
     "start_time": "2022-01-13T13:32:53.938500Z"
    }
   },
   "outputs": [],
   "source": [
    "X_train, X_test, y_train, y_test = train_test_split(digits_data, \n",
    "                                                    digits_label, \n",
    "                                                    test_size=0.2, \n",
    "                                                    random_state=13)"
   ]
  },
  {
   "cell_type": "markdown",
   "id": "ab8e6b74",
   "metadata": {},
   "source": [
    "### Model"
   ]
  },
  {
   "cell_type": "markdown",
   "id": "5f258827",
   "metadata": {},
   "source": [
    "#### Decision Tree Model  "
   ]
  },
  {
   "cell_type": "code",
   "execution_count": 5,
   "id": "50a1724c",
   "metadata": {
    "ExecuteTime": {
     "end_time": "2022-01-13T13:33:10.302246Z",
     "start_time": "2022-01-13T13:33:10.244673Z"
    }
   },
   "outputs": [
    {
     "name": "stdout",
     "output_type": "stream",
     "text": [
      "              precision    recall  f1-score   support\n",
      "\n",
      "           0       0.97      0.93      0.95        30\n",
      "           1       0.83      0.78      0.81        37\n",
      "           2       0.87      0.87      0.87        38\n",
      "           3       0.79      0.84      0.82        37\n",
      "           4       0.89      0.87      0.88        38\n",
      "           5       0.89      0.93      0.91        45\n",
      "           6       0.95      0.93      0.94        42\n",
      "           7       0.96      0.92      0.94        26\n",
      "           8       0.93      0.79      0.86        34\n",
      "           9       0.72      0.88      0.79        33\n",
      "\n",
      "    accuracy                           0.88       360\n",
      "   macro avg       0.88      0.87      0.88       360\n",
      "weighted avg       0.88      0.88      0.88       360\n",
      "\n"
     ]
    },
    {
     "ename": "NameError",
     "evalue": "name 'confusion_matrix' is not defined",
     "output_type": "error",
     "traceback": [
      "\u001b[0;31m---------------------------------------------------------------------------\u001b[0m",
      "\u001b[0;31mNameError\u001b[0m                                 Traceback (most recent call last)",
      "\u001b[0;32m/var/folders/59/gjb3x8rx30s2cxwfl3zh2m040000gn/T/ipykernel_13545/2173740007.py\u001b[0m in \u001b[0;36m<module>\u001b[0;34m\u001b[0m\n\u001b[1;32m      5\u001b[0m \u001b[0;34m\u001b[0m\u001b[0m\n\u001b[1;32m      6\u001b[0m \u001b[0mprint\u001b[0m\u001b[0;34m(\u001b[0m\u001b[0mclassification_report\u001b[0m\u001b[0;34m(\u001b[0m\u001b[0my_test\u001b[0m\u001b[0;34m,\u001b[0m \u001b[0my_pred\u001b[0m\u001b[0;34m)\u001b[0m\u001b[0;34m)\u001b[0m\u001b[0;34m\u001b[0m\u001b[0;34m\u001b[0m\u001b[0m\n\u001b[0;32m----> 7\u001b[0;31m \u001b[0mprint\u001b[0m\u001b[0;34m(\u001b[0m\u001b[0mconfusion_matrix\u001b[0m\u001b[0;34m(\u001b[0m\u001b[0my_test\u001b[0m\u001b[0;34m,\u001b[0m \u001b[0my_pred\u001b[0m\u001b[0;34m)\u001b[0m\u001b[0;34m)\u001b[0m\u001b[0;34m\u001b[0m\u001b[0;34m\u001b[0m\u001b[0m\n\u001b[0m\u001b[1;32m      8\u001b[0m \u001b[0;34m\u001b[0m\u001b[0m\n\u001b[1;32m      9\u001b[0m \u001b[0;34m\u001b[0m\u001b[0m\n",
      "\u001b[0;31mNameError\u001b[0m: name 'confusion_matrix' is not defined"
     ]
    }
   ],
   "source": [
    "from sklearn.tree import DecisionTreeClassifier\n",
    "decision_tree = DecisionTreeClassifier(random_state=13)\n",
    "decision_tree.fit(X_train, y_train)\n",
    "y_pred = decision_tree.predict(X_test)\n",
    "\n",
    "print(classification_report(y_test, y_pred))\n",
    "print(confusion_matrix(y_test, y_pred))\n",
    "\n",
    "\n",
    "# 정확도(Accuracy) 확인\n",
    "from sklearn.metrics import accuracy_score\n",
    "\n",
    "accuracy = accuracy_score(y_test, y_pred)\n",
    "accuracy"
   ]
  },
  {
   "cell_type": "markdown",
   "id": "1a27a682",
   "metadata": {},
   "source": [
    "#### Random Forest 사용"
   ]
  },
  {
   "cell_type": "code",
   "execution_count": 6,
   "id": "affe2616",
   "metadata": {
    "ExecuteTime": {
     "end_time": "2022-01-13T13:33:23.377883Z",
     "start_time": "2022-01-13T13:33:22.828555Z"
    }
   },
   "outputs": [
    {
     "name": "stdout",
     "output_type": "stream",
     "text": [
      "              precision    recall  f1-score   support\n",
      "\n",
      "           0       1.00      1.00      1.00        30\n",
      "           1       0.90      1.00      0.95        37\n",
      "           2       0.97      1.00      0.99        38\n",
      "           3       1.00      0.95      0.97        37\n",
      "           4       0.97      1.00      0.99        38\n",
      "           5       1.00      0.98      0.99        45\n",
      "           6       1.00      0.98      0.99        42\n",
      "           7       0.96      0.96      0.96        26\n",
      "           8       0.93      0.79      0.86        34\n",
      "           9       0.89      0.97      0.93        33\n",
      "\n",
      "    accuracy                           0.96       360\n",
      "   macro avg       0.96      0.96      0.96       360\n",
      "weighted avg       0.97      0.96      0.96       360\n",
      "\n"
     ]
    },
    {
     "ename": "NameError",
     "evalue": "name 'confusion_matrix' is not defined",
     "output_type": "error",
     "traceback": [
      "\u001b[0;31m---------------------------------------------------------------------------\u001b[0m",
      "\u001b[0;31mNameError\u001b[0m                                 Traceback (most recent call last)",
      "\u001b[0;32m/var/folders/59/gjb3x8rx30s2cxwfl3zh2m040000gn/T/ipykernel_13545/3014163277.py\u001b[0m in \u001b[0;36m<module>\u001b[0;34m\u001b[0m\n\u001b[1;32m      6\u001b[0m \u001b[0;34m\u001b[0m\u001b[0m\n\u001b[1;32m      7\u001b[0m \u001b[0mprint\u001b[0m\u001b[0;34m(\u001b[0m\u001b[0mclassification_report\u001b[0m\u001b[0;34m(\u001b[0m\u001b[0my_test\u001b[0m\u001b[0;34m,\u001b[0m \u001b[0my_pred\u001b[0m\u001b[0;34m)\u001b[0m\u001b[0;34m)\u001b[0m\u001b[0;34m\u001b[0m\u001b[0;34m\u001b[0m\u001b[0m\n\u001b[0;32m----> 8\u001b[0;31m \u001b[0mprint\u001b[0m\u001b[0;34m(\u001b[0m\u001b[0mconfusion_matrix\u001b[0m\u001b[0;34m(\u001b[0m\u001b[0my_test\u001b[0m\u001b[0;34m,\u001b[0m \u001b[0my_pred\u001b[0m\u001b[0;34m)\u001b[0m\u001b[0;34m)\u001b[0m\u001b[0;34m\u001b[0m\u001b[0;34m\u001b[0m\u001b[0m\n\u001b[0m\u001b[1;32m      9\u001b[0m \u001b[0;34m\u001b[0m\u001b[0m\n\u001b[1;32m     10\u001b[0m \u001b[0;34m\u001b[0m\u001b[0m\n",
      "\u001b[0;31mNameError\u001b[0m: name 'confusion_matrix' is not defined"
     ]
    }
   ],
   "source": [
    "from sklearn.ensemble import RandomForestClassifier\n",
    "\n",
    "random_forest = RandomForestClassifier(random_state=32)\n",
    "random_forest.fit(X_train, y_train)\n",
    "y_pred = random_forest.predict(X_test)\n",
    "\n",
    "print(classification_report(y_test, y_pred))\n",
    "print(confusion_matrix(y_test, y_pred))\n",
    "\n",
    "\n",
    "# 정확도(Accuracy) 확인\n",
    "from sklearn.metrics import accuracy_score\n",
    "\n",
    "accuracy = accuracy_score(y_test, y_pred)\n",
    "accuracy"
   ]
  },
  {
   "cell_type": "markdown",
   "id": "58bfeae9",
   "metadata": {},
   "source": [
    "#### SVM Model"
   ]
  },
  {
   "cell_type": "code",
   "execution_count": 7,
   "id": "e9cc83f7",
   "metadata": {
    "ExecuteTime": {
     "end_time": "2022-01-13T13:33:26.293890Z",
     "start_time": "2022-01-13T13:33:26.106979Z"
    }
   },
   "outputs": [
    {
     "name": "stdout",
     "output_type": "stream",
     "text": [
      "              precision    recall  f1-score   support\n",
      "\n",
      "           0       1.00      1.00      1.00        30\n",
      "           1       0.93      1.00      0.96        37\n",
      "           2       0.97      1.00      0.99        38\n",
      "           3       1.00      0.97      0.99        37\n",
      "           4       1.00      1.00      1.00        38\n",
      "           5       1.00      0.98      0.99        45\n",
      "           6       1.00      1.00      1.00        42\n",
      "           7       1.00      0.96      0.98        26\n",
      "           8       1.00      0.91      0.95        34\n",
      "           9       0.94      1.00      0.97        33\n",
      "\n",
      "    accuracy                           0.98       360\n",
      "   macro avg       0.98      0.98      0.98       360\n",
      "weighted avg       0.98      0.98      0.98       360\n",
      "\n"
     ]
    },
    {
     "ename": "NameError",
     "evalue": "name 'confusion_matrix' is not defined",
     "output_type": "error",
     "traceback": [
      "\u001b[0;31m---------------------------------------------------------------------------\u001b[0m",
      "\u001b[0;31mNameError\u001b[0m                                 Traceback (most recent call last)",
      "\u001b[0;32m/var/folders/59/gjb3x8rx30s2cxwfl3zh2m040000gn/T/ipykernel_13545/1210882555.py\u001b[0m in \u001b[0;36m<module>\u001b[0;34m\u001b[0m\n\u001b[1;32m      5\u001b[0m \u001b[0;34m\u001b[0m\u001b[0m\n\u001b[1;32m      6\u001b[0m \u001b[0mprint\u001b[0m\u001b[0;34m(\u001b[0m\u001b[0mclassification_report\u001b[0m\u001b[0;34m(\u001b[0m\u001b[0my_test\u001b[0m\u001b[0;34m,\u001b[0m \u001b[0my_pred\u001b[0m\u001b[0;34m)\u001b[0m\u001b[0;34m)\u001b[0m\u001b[0;34m\u001b[0m\u001b[0;34m\u001b[0m\u001b[0m\n\u001b[0;32m----> 7\u001b[0;31m \u001b[0mprint\u001b[0m\u001b[0;34m(\u001b[0m\u001b[0mconfusion_matrix\u001b[0m\u001b[0;34m(\u001b[0m\u001b[0my_test\u001b[0m\u001b[0;34m,\u001b[0m \u001b[0my_pred\u001b[0m\u001b[0;34m)\u001b[0m\u001b[0;34m)\u001b[0m\u001b[0;34m\u001b[0m\u001b[0;34m\u001b[0m\u001b[0m\n\u001b[0m\u001b[1;32m      8\u001b[0m \u001b[0;34m\u001b[0m\u001b[0m\n\u001b[1;32m      9\u001b[0m \u001b[0;34m\u001b[0m\u001b[0m\n",
      "\u001b[0;31mNameError\u001b[0m: name 'confusion_matrix' is not defined"
     ]
    }
   ],
   "source": [
    "from sklearn import svm\n",
    "svm_model = svm.SVC()\n",
    "svm_model.fit(X_train, y_train)\n",
    "y_pred = svm_model.predict(X_test)\n",
    "\n",
    "print(classification_report(y_test, y_pred))\n",
    "print(confusion_matrix(y_test, y_pred))\n",
    "\n",
    "\n",
    "# 정확도(Accuracy) 확인\n",
    "from sklearn.metrics import accuracy_score\n",
    "\n",
    "accuracy = accuracy_score(y_test, y_pred)\n",
    "accuracy"
   ]
  },
  {
   "cell_type": "markdown",
   "id": "d1ba6f63",
   "metadata": {},
   "source": [
    "#### SGD Model 사용하기"
   ]
  },
  {
   "cell_type": "code",
   "execution_count": 8,
   "id": "6babec6d",
   "metadata": {
    "ExecuteTime": {
     "end_time": "2022-01-13T13:33:32.718722Z",
     "start_time": "2022-01-13T13:33:32.581379Z"
    }
   },
   "outputs": [
    {
     "name": "stdout",
     "output_type": "stream",
     "text": [
      "              precision    recall  f1-score   support\n",
      "\n",
      "           0       1.00      1.00      1.00        30\n",
      "           1       0.79      1.00      0.88        37\n",
      "           2       1.00      0.97      0.99        38\n",
      "           3       0.95      0.95      0.95        37\n",
      "           4       0.97      1.00      0.99        38\n",
      "           5       1.00      0.89      0.94        45\n",
      "           6       1.00      1.00      1.00        42\n",
      "           7       0.93      0.96      0.94        26\n",
      "           8       0.96      0.68      0.79        34\n",
      "           9       0.89      1.00      0.94        33\n",
      "\n",
      "    accuracy                           0.94       360\n",
      "   macro avg       0.95      0.94      0.94       360\n",
      "weighted avg       0.95      0.94      0.94       360\n",
      "\n"
     ]
    },
    {
     "ename": "NameError",
     "evalue": "name 'confusion_matrix' is not defined",
     "output_type": "error",
     "traceback": [
      "\u001b[0;31m---------------------------------------------------------------------------\u001b[0m",
      "\u001b[0;31mNameError\u001b[0m                                 Traceback (most recent call last)",
      "\u001b[0;32m/var/folders/59/gjb3x8rx30s2cxwfl3zh2m040000gn/T/ipykernel_13545/537607696.py\u001b[0m in \u001b[0;36m<module>\u001b[0;34m\u001b[0m\n\u001b[1;32m      5\u001b[0m \u001b[0;34m\u001b[0m\u001b[0m\n\u001b[1;32m      6\u001b[0m \u001b[0mprint\u001b[0m\u001b[0;34m(\u001b[0m\u001b[0mclassification_report\u001b[0m\u001b[0;34m(\u001b[0m\u001b[0my_test\u001b[0m\u001b[0;34m,\u001b[0m \u001b[0my_pred\u001b[0m\u001b[0;34m)\u001b[0m\u001b[0;34m)\u001b[0m\u001b[0;34m\u001b[0m\u001b[0;34m\u001b[0m\u001b[0m\n\u001b[0;32m----> 7\u001b[0;31m \u001b[0mprint\u001b[0m\u001b[0;34m(\u001b[0m\u001b[0mconfusion_matrix\u001b[0m\u001b[0;34m(\u001b[0m\u001b[0my_test\u001b[0m\u001b[0;34m,\u001b[0m \u001b[0my_pred\u001b[0m\u001b[0;34m)\u001b[0m\u001b[0;34m)\u001b[0m\u001b[0;34m\u001b[0m\u001b[0;34m\u001b[0m\u001b[0m\n\u001b[0m\u001b[1;32m      8\u001b[0m \u001b[0;34m\u001b[0m\u001b[0m\n\u001b[1;32m      9\u001b[0m \u001b[0;34m\u001b[0m\u001b[0m\n",
      "\u001b[0;31mNameError\u001b[0m: name 'confusion_matrix' is not defined"
     ]
    }
   ],
   "source": [
    "from sklearn.linear_model import SGDClassifier\n",
    "sgd_model = SGDClassifier()\n",
    "sgd_model.fit(X_train, y_train)\n",
    "y_pred = sgd_model.predict(X_test)\n",
    "\n",
    "print(classification_report(y_test, y_pred))\n",
    "print(confusion_matrix(y_test, y_pred))\n",
    "\n",
    "\n",
    "# 정확도(Accuracy) 확인\n",
    "from sklearn.metrics import accuracy_score\n",
    "\n",
    "accuracy = accuracy_score(y_test, y_pred)\n",
    "accuracy"
   ]
  },
  {
   "cell_type": "markdown",
   "id": "8011e337",
   "metadata": {},
   "source": [
    "#### Logistic Regression Model"
   ]
  },
  {
   "cell_type": "code",
   "execution_count": 9,
   "id": "24ea27ec",
   "metadata": {
    "ExecuteTime": {
     "end_time": "2022-01-13T13:33:38.434556Z",
     "start_time": "2022-01-13T13:33:38.081934Z"
    }
   },
   "outputs": [
    {
     "name": "stdout",
     "output_type": "stream",
     "text": [
      "              precision    recall  f1-score   support\n",
      "\n",
      "           0       1.00      1.00      1.00        30\n",
      "           1       0.85      0.92      0.88        37\n",
      "           2       1.00      0.95      0.97        38\n",
      "           3       0.97      0.92      0.94        37\n",
      "           4       0.95      1.00      0.97        38\n",
      "           5       0.98      0.96      0.97        45\n",
      "           6       1.00      0.98      0.99        42\n",
      "           7       0.96      0.92      0.94        26\n",
      "           8       0.97      0.82      0.89        34\n",
      "           9       0.82      1.00      0.90        33\n",
      "\n",
      "    accuracy                           0.95       360\n",
      "   macro avg       0.95      0.95      0.95       360\n",
      "weighted avg       0.95      0.95      0.95       360\n",
      "\n",
      "######정답과 오답을 구분해서 확인#######\n"
     ]
    },
    {
     "name": "stderr",
     "output_type": "stream",
     "text": [
      "/Users/baekgun/opt/anaconda3/lib/python3.9/site-packages/sklearn/linear_model/_logistic.py:763: ConvergenceWarning: lbfgs failed to converge (status=1):\n",
      "STOP: TOTAL NO. of ITERATIONS REACHED LIMIT.\n",
      "\n",
      "Increase the number of iterations (max_iter) or scale the data as shown in:\n",
      "    https://scikit-learn.org/stable/modules/preprocessing.html\n",
      "Please also refer to the documentation for alternative solver options:\n",
      "    https://scikit-learn.org/stable/modules/linear_model.html#logistic-regression\n",
      "  n_iter_i = _check_optimize_result(\n"
     ]
    },
    {
     "ename": "NameError",
     "evalue": "name 'confusion_matrix' is not defined",
     "output_type": "error",
     "traceback": [
      "\u001b[0;31m---------------------------------------------------------------------------\u001b[0m",
      "\u001b[0;31mNameError\u001b[0m                                 Traceback (most recent call last)",
      "\u001b[0;32m/var/folders/59/gjb3x8rx30s2cxwfl3zh2m040000gn/T/ipykernel_13545/440637654.py\u001b[0m in \u001b[0;36m<module>\u001b[0;34m\u001b[0m\n\u001b[1;32m      7\u001b[0m \u001b[0;34m\u001b[0m\u001b[0m\n\u001b[1;32m      8\u001b[0m \u001b[0mprint\u001b[0m\u001b[0;34m(\u001b[0m\u001b[0;34m\"######정답과 오답을 구분해서 확인#######\"\u001b[0m\u001b[0;34m)\u001b[0m\u001b[0;34m\u001b[0m\u001b[0;34m\u001b[0m\u001b[0m\n\u001b[0;32m----> 9\u001b[0;31m \u001b[0mprint\u001b[0m\u001b[0;34m(\u001b[0m\u001b[0mconfusion_matrix\u001b[0m\u001b[0;34m(\u001b[0m\u001b[0my_test\u001b[0m\u001b[0;34m,\u001b[0m \u001b[0my_pred\u001b[0m\u001b[0;34m)\u001b[0m\u001b[0;34m)\u001b[0m\u001b[0;34m\u001b[0m\u001b[0;34m\u001b[0m\u001b[0m\n\u001b[0m\u001b[1;32m     10\u001b[0m \u001b[0;34m\u001b[0m\u001b[0m\n\u001b[1;32m     11\u001b[0m \u001b[0;34m\u001b[0m\u001b[0m\n",
      "\u001b[0;31mNameError\u001b[0m: name 'confusion_matrix' is not defined"
     ]
    }
   ],
   "source": [
    "\n",
    "from sklearn.linear_model import LogisticRegression\n",
    "logistic_model = LogisticRegression()\n",
    "logistic_model.fit(X_train, y_train)\n",
    "y_pred = logistic_model.predict(X_test)\n",
    "\n",
    "print(classification_report(y_test, y_pred))\n",
    "\n",
    "print(\"######정답과 오답을 구분해서 확인#######\")\n",
    "print(confusion_matrix(y_test, y_pred))\n",
    "\n",
    "\n",
    "# 정확도(Accuracy) 확인\n",
    "from sklearn.metrics import accuracy_score\n",
    "\n",
    "accuracy = accuracy_score(y_test, y_pred)\n",
    "accuracy"
   ]
  },
  {
   "cell_type": "markdown",
   "id": "c1161c8e",
   "metadata": {},
   "source": [
    "### 모델 선정 "
   ]
  },
  {
   "cell_type": "markdown",
   "id": "59c2f6da",
   "metadata": {
    "ExecuteTime": {
     "end_time": "2022-01-13T08:20:21.057595Z",
     "start_time": "2022-01-13T08:20:21.039606Z"
    }
   },
   "source": [
    "#### 정리\n",
    "Recall : 실제로 True인 데이터를 모델이 True 라고 인식한 데이터수\n",
    "Precision : 모델이 True로 예측한 데이터 중 실제로 True인 데이터수\n",
    "F1 Score : Recall 값과 Precision의 값과 차이가 적을 수록 노이즈가 적은 것.\n",
    "\n",
    "Decision Tree Model : \n",
    " - Precision : 0.88\n",
    " - Recall    : 0.88\n",
    " - F1 score  : 0.88\n",
    " - Accuracy  :0.875\n",
    " - 우선 고려 항목 : \n",
    " \n",
    "Random forest Model : 의견 통합용\n",
    " - Precision : 0.97\n",
    " - Recall    : 0.96\n",
    " - F1 score  : 0.96\n",
    " - Accuracy  :0.963\n",
    " - 우선 고려 항목 : \n",
    " \n",
    "SVM Model\n",
    " - Precision : 0.98\n",
    " - Recall    : 0.98\n",
    " - F1 score  : 0.98\n",
    " - Accuracy  :0.983\n",
    " - 우선 고려 항목 : \n",
    " \n",
    "SGD Model\n",
    " - Precision : 0.95\n",
    " - Recall    : 0.95\n",
    " - F1 score  : 0.95\n",
    " - Accuracy  :0.947\n",
    " - 우선 고려 항목 : \n",
    " \n",
    "Logistic Regreession Model\n",
    " - Precision : 0.95\n",
    " - Recall    : 0.95\n",
    " - F1 score  : 0.95\n",
    " - Accuracy  :0.947\n",
    " - 우선 고려 항목 : \n",
    "    \n",
    "### 최종 선정 모델\n"
   ]
  },
  {
   "cell_type": "markdown",
   "id": "7319fea2",
   "metadata": {
    "ExecuteTime": {
     "end_time": "2022-01-13T13:35:16.893467Z",
     "start_time": "2022-01-13T13:35:16.888123Z"
    }
   },
   "source": [
    "##### 와인 분류와 유방암 진단 분류는 동일 주소 깃허브에 같이 업로드되어 있습니다."
   ]
  },
  {
   "cell_type": "code",
   "execution_count": null,
   "id": "5c9a743f",
   "metadata": {},
   "outputs": [],
   "source": []
  }
 ],
 "metadata": {
  "hide_input": false,
  "kernelspec": {
   "display_name": "Python 3 (ipykernel)",
   "language": "python",
   "name": "python3"
  },
  "language_info": {
   "codemirror_mode": {
    "name": "ipython",
    "version": 3
   },
   "file_extension": ".py",
   "mimetype": "text/x-python",
   "name": "python",
   "nbconvert_exporter": "python",
   "pygments_lexer": "ipython3",
   "version": "3.9.7"
  },
  "toc": {
   "base_numbering": 1,
   "nav_menu": {},
   "number_sections": true,
   "sideBar": true,
   "skip_h1_title": false,
   "title_cell": "Table of Contents",
   "title_sidebar": "Contents",
   "toc_cell": false,
   "toc_position": {},
   "toc_section_display": true,
   "toc_window_display": true
  },
  "varInspector": {
   "cols": {
    "lenName": 16,
    "lenType": 16,
    "lenVar": 40
   },
   "kernels_config": {
    "python": {
     "delete_cmd_postfix": "",
     "delete_cmd_prefix": "del ",
     "library": "var_list.py",
     "varRefreshCmd": "print(var_dic_list())"
    },
    "r": {
     "delete_cmd_postfix": ") ",
     "delete_cmd_prefix": "rm(",
     "library": "var_list.r",
     "varRefreshCmd": "cat(var_dic_list()) "
    }
   },
   "types_to_exclude": [
    "module",
    "function",
    "builtin_function_or_method",
    "instance",
    "_Feature"
   ],
   "window_display": false
  }
 },
 "nbformat": 4,
 "nbformat_minor": 5
}
