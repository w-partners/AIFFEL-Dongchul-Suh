{
 "cells": [
  {
   "cell_type": "markdown",
   "id": "8692eb82",
   "metadata": {},
   "source": [
    "# 고양이 수염 스티커 만들기\n",
    "\n",
    "## 라이브러리불러오기"
   ]
  },
  {
   "cell_type": "code",
   "execution_count": 1,
   "id": "9a8655fe",
   "metadata": {},
   "outputs": [],
   "source": [
    "import cv2\n",
    "import matplotlib.pyplot as plt\n",
    "import numpy as np\n",
    "import dlib"
   ]
  },
  {
   "cell_type": "code",
   "execution_count": null,
   "id": "22c8f3b7",
   "metadata": {},
   "outputs": [],
   "source": [
    "my_image_path = './camera_sticker/images/image.png'\n",
    "img_bgr = cv2.imread(my_image_path)  # OpenCV로 이미지를 불러옵니다\n",
    "img_show = img_bgr.copy()            # 출력용 이미지를 따로 보관합니다\n",
    "plt.imshow(img_bgr)                  # 이미지 출력하기\n",
    "plt.show()                           # 이건 왜 써야할까요???"
   ]
  },
  {
   "cell_type": "markdown",
   "id": "8e70f922",
   "metadata": {},
   "source": [
    "## 이미지 준비하기 RGB로 출력하기\n",
    "\n",
    "## 얼굴 검출 & 랜드마크 검출\n",
    "\n",
    "## 스티커 적용하기\n",
    "\n",
    "# 여러가지 테스트\n",
    "\n",
    "## 각도 바꿔보기\n",
    "\n",
    "## 마스크 쓰기\n",
    "\n",
    "## 사진을 어둡게\n",
    "\n",
    "## 사진을 멀리\n",
    "\n",
    "## 두명 이상\n",
    "\n",
    "## 회고\n",
    "\n",
    "### 기본\n",
    "\n",
    "### 각도\n",
    "\n",
    "### 마스크\n",
    "\n",
    "### 어두운 사진\n",
    "\n",
    "### 작은 사진\n",
    "\n",
    "### 두명 이상"
   ]
  }
 ],
 "metadata": {
  "kernelspec": {
   "display_name": "Python 3 (ipykernel)",
   "language": "python",
   "name": "python3"
  },
  "language_info": {
   "codemirror_mode": {
    "name": "ipython",
    "version": 3
   },
   "file_extension": ".py",
   "mimetype": "text/x-python",
   "name": "python",
   "nbconvert_exporter": "python",
   "pygments_lexer": "ipython3",
   "version": "3.9.7"
  }
 },
 "nbformat": 4,
 "nbformat_minor": 5
}
