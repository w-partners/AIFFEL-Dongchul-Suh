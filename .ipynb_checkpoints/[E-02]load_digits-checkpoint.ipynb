{
 "cells": [
  {
   "cell_type": "markdown",
   "id": "b2a69bdb",
   "metadata": {},
   "source": [
    "# [E-02] 과제"
   ]
  },
  {
   "cell_type": "markdown",
   "id": "821a8087",
   "metadata": {},
   "source": [
    "# 손글씨 분류하기"
   ]
  },
  {
   "cell_type": "markdown",
   "id": "3e0c833c",
   "metadata": {},
   "source": [
    "## 데이터\n",
    "### 데이터 준비"
   ]
  },
  {
   "cell_type": "code",
   "execution_count": 14,
   "id": "5f015df7",
   "metadata": {
    "ExecuteTime": {
     "end_time": "2022-01-13T14:06:52.352273Z",
     "start_time": "2022-01-13T14:06:52.213476Z"
    }
   },
   "outputs": [],
   "source": [
    "# 필요한 모듈 Import\n",
    "from sklearn.datasets import load_digits\n",
    "from sklearn.model_selection import train_test_split\n",
    "from sklearn.metrics import classification_report\n",
    "from sklearn.metrics import confusion_matrix\n",
    "\n",
    "digits = load_digits()  # 인스턴스 = 클래스()\n",
    "digits_data = digits.data\n",
    "digits_label = digits.target"
   ]
  },
  {
   "cell_type": "markdown",
   "id": "253d1ac5",
   "metadata": {},
   "source": [
    "### train, Test 데이터 분리"
   ]
  },
  {
   "cell_type": "code",
   "execution_count": 15,
   "id": "f4fb977c",
   "metadata": {
    "ExecuteTime": {
     "end_time": "2022-01-13T14:06:53.449334Z",
     "start_time": "2022-01-13T14:06:53.442056Z"
    }
   },
   "outputs": [],
   "source": [
    "X_train, X_test, y_train, y_test = train_test_split(digits_data, \n",
    "                                                    digits_label, \n",
    "                                                    test_size=0.2, \n",
    "                                                    random_state=13)"
   ]
  },
  {
   "cell_type": "markdown",
   "id": "393bda3e",
   "metadata": {},
   "source": [
    "## Model"
   ]
  },
  {
   "cell_type": "markdown",
   "id": "9572066b",
   "metadata": {},
   "source": [
    "### Decision Tree Model  "
   ]
  },
  {
   "cell_type": "code",
   "execution_count": 10,
   "id": "6c31728a",
   "metadata": {
    "ExecuteTime": {
     "end_time": "2022-01-13T14:06:20.605588Z",
     "start_time": "2022-01-13T14:06:20.554911Z"
    }
   },
   "outputs": [
    {
     "name": "stdout",
     "output_type": "stream",
     "text": [
      "              precision    recall  f1-score   support\n",
      "\n",
      "           0       0.97      0.93      0.95        30\n",
      "           1       0.83      0.78      0.81        37\n",
      "           2       0.87      0.87      0.87        38\n",
      "           3       0.79      0.84      0.82        37\n",
      "           4       0.89      0.87      0.88        38\n",
      "           5       0.89      0.93      0.91        45\n",
      "           6       0.95      0.93      0.94        42\n",
      "           7       0.96      0.92      0.94        26\n",
      "           8       0.93      0.79      0.86        34\n",
      "           9       0.72      0.88      0.79        33\n",
      "\n",
      "    accuracy                           0.88       360\n",
      "   macro avg       0.88      0.87      0.88       360\n",
      "weighted avg       0.88      0.88      0.88       360\n",
      "\n",
      "[[28  0  1  0  0  0  0  0  0  1]\n",
      " [ 0 29  2  2  2  0  0  0  0  2]\n",
      " [ 0  1 33  1  1  0  1  0  1  0]\n",
      " [ 0  1  0 31  0  1  0  0  1  3]\n",
      " [ 0  0  1  1 33  1  0  1  0  1]\n",
      " [ 0  0  0  0  1 42  0  0  0  2]\n",
      " [ 0  0  0  2  0  1 39  0  0  0]\n",
      " [ 0  2  0  0  0  0  0 24  0  0]\n",
      " [ 0  2  0  1  0  1  1  0 27  2]\n",
      " [ 1  0  1  1  0  1  0  0  0 29]]\n"
     ]
    },
    {
     "data": {
      "text/plain": [
       "0.875"
      ]
     },
     "execution_count": 10,
     "metadata": {},
     "output_type": "execute_result"
    }
   ],
   "source": [
    "from sklearn.tree import DecisionTreeClassifier\n",
    "decision_tree = DecisionTreeClassifier(random_state=13)\n",
    "decision_tree.fit(X_train, y_train)\n",
    "y_pred = decision_tree.predict(X_test)\n",
    "\n",
    "print(classification_report(y_test, y_pred))\n",
    "print(confusion_matrix(y_test, y_pred))\n",
    "\n",
    "\n",
    "# 정확도(Accuracy) 확인\n",
    "from sklearn.metrics import accuracy_score\n",
    "\n",
    "accuracy = accuracy_score(y_test, y_pred)\n",
    "accuracy"
   ]
  },
  {
   "cell_type": "markdown",
   "id": "8778d50f",
   "metadata": {},
   "source": [
    "#### Random Forest 사용"
   ]
  },
  {
   "cell_type": "code",
   "execution_count": 16,
   "id": "4049fc55",
   "metadata": {
    "ExecuteTime": {
     "end_time": "2022-01-13T14:06:58.789803Z",
     "start_time": "2022-01-13T14:06:58.292831Z"
    }
   },
   "outputs": [
    {
     "name": "stdout",
     "output_type": "stream",
     "text": [
      "              precision    recall  f1-score   support\n",
      "\n",
      "           0       1.00      1.00      1.00        30\n",
      "           1       0.90      1.00      0.95        37\n",
      "           2       0.97      1.00      0.99        38\n",
      "           3       1.00      0.95      0.97        37\n",
      "           4       0.97      1.00      0.99        38\n",
      "           5       1.00      0.98      0.99        45\n",
      "           6       1.00      0.98      0.99        42\n",
      "           7       0.96      0.96      0.96        26\n",
      "           8       0.93      0.79      0.86        34\n",
      "           9       0.89      0.97      0.93        33\n",
      "\n",
      "    accuracy                           0.96       360\n",
      "   macro avg       0.96      0.96      0.96       360\n",
      "weighted avg       0.97      0.96      0.96       360\n",
      "\n",
      "[[30  0  0  0  0  0  0  0  0  0]\n",
      " [ 0 37  0  0  0  0  0  0  0  0]\n",
      " [ 0  0 38  0  0  0  0  0  0  0]\n",
      " [ 0  0  0 35  0  0  0  0  1  1]\n",
      " [ 0  0  0  0 38  0  0  0  0  0]\n",
      " [ 0  0  0  0  0 44  0  0  0  1]\n",
      " [ 0  1  0  0  0  0 41  0  0  0]\n",
      " [ 0  0  0  0  0  0  0 25  0  1]\n",
      " [ 0  3  1  0  1  0  0  1 27  1]\n",
      " [ 0  0  0  0  0  0  0  0  1 32]]\n"
     ]
    },
    {
     "data": {
      "text/plain": [
       "0.9638888888888889"
      ]
     },
     "execution_count": 16,
     "metadata": {},
     "output_type": "execute_result"
    }
   ],
   "source": [
    "from sklearn.ensemble import RandomForestClassifier\n",
    "\n",
    "random_forest = RandomForestClassifier(random_state=32)\n",
    "random_forest.fit(X_train, y_train)\n",
    "y_pred = random_forest.predict(X_test)\n",
    "\n",
    "print(classification_report(y_test, y_pred))\n",
    "print(confusion_matrix(y_test, y_pred))\n",
    "\n",
    "\n",
    "# 정확도(Accuracy) 확인\n",
    "from sklearn.metrics import accuracy_score\n",
    "\n",
    "accuracy = accuracy_score(y_test, y_pred)\n",
    "accuracy"
   ]
  },
  {
   "cell_type": "markdown",
   "id": "946741a7",
   "metadata": {},
   "source": [
    "#### SVM Model"
   ]
  },
  {
   "cell_type": "code",
   "execution_count": 17,
   "id": "edb0780c",
   "metadata": {
    "ExecuteTime": {
     "end_time": "2022-01-13T14:07:02.286494Z",
     "start_time": "2022-01-13T14:07:02.116582Z"
    }
   },
   "outputs": [
    {
     "name": "stdout",
     "output_type": "stream",
     "text": [
      "              precision    recall  f1-score   support\n",
      "\n",
      "           0       1.00      1.00      1.00        30\n",
      "           1       0.93      1.00      0.96        37\n",
      "           2       0.97      1.00      0.99        38\n",
      "           3       1.00      0.97      0.99        37\n",
      "           4       1.00      1.00      1.00        38\n",
      "           5       1.00      0.98      0.99        45\n",
      "           6       1.00      1.00      1.00        42\n",
      "           7       1.00      0.96      0.98        26\n",
      "           8       1.00      0.91      0.95        34\n",
      "           9       0.94      1.00      0.97        33\n",
      "\n",
      "    accuracy                           0.98       360\n",
      "   macro avg       0.98      0.98      0.98       360\n",
      "weighted avg       0.98      0.98      0.98       360\n",
      "\n",
      "[[30  0  0  0  0  0  0  0  0  0]\n",
      " [ 0 37  0  0  0  0  0  0  0  0]\n",
      " [ 0  0 38  0  0  0  0  0  0  0]\n",
      " [ 0  0  1 36  0  0  0  0  0  0]\n",
      " [ 0  0  0  0 38  0  0  0  0  0]\n",
      " [ 0  0  0  0  0 44  0  0  0  1]\n",
      " [ 0  0  0  0  0  0 42  0  0  0]\n",
      " [ 0  0  0  0  0  0  0 25  0  1]\n",
      " [ 0  3  0  0  0  0  0  0 31  0]\n",
      " [ 0  0  0  0  0  0  0  0  0 33]]\n"
     ]
    },
    {
     "data": {
      "text/plain": [
       "0.9833333333333333"
      ]
     },
     "execution_count": 17,
     "metadata": {},
     "output_type": "execute_result"
    }
   ],
   "source": [
    "from sklearn import svm\n",
    "svm_model = svm.SVC()\n",
    "svm_model.fit(X_train, y_train)\n",
    "y_pred = svm_model.predict(X_test)\n",
    "\n",
    "print(classification_report(y_test, y_pred))\n",
    "print(confusion_matrix(y_test, y_pred))\n",
    "\n",
    "\n",
    "# 정확도(Accuracy) 확인\n",
    "from sklearn.metrics import accuracy_score\n",
    "\n",
    "accuracy = accuracy_score(y_test, y_pred)\n",
    "accuracy"
   ]
  },
  {
   "cell_type": "markdown",
   "id": "560b3645",
   "metadata": {},
   "source": [
    "#### SGD Model 사용하기"
   ]
  },
  {
   "cell_type": "code",
   "execution_count": 18,
   "id": "509d5e2b",
   "metadata": {
    "ExecuteTime": {
     "end_time": "2022-01-13T14:07:05.516742Z",
     "start_time": "2022-01-13T14:07:05.397545Z"
    }
   },
   "outputs": [
    {
     "name": "stdout",
     "output_type": "stream",
     "text": [
      "              precision    recall  f1-score   support\n",
      "\n",
      "           0       1.00      1.00      1.00        30\n",
      "           1       0.80      0.97      0.88        37\n",
      "           2       1.00      0.95      0.97        38\n",
      "           3       1.00      0.92      0.96        37\n",
      "           4       1.00      1.00      1.00        38\n",
      "           5       1.00      0.91      0.95        45\n",
      "           6       0.98      1.00      0.99        42\n",
      "           7       0.93      0.96      0.94        26\n",
      "           8       0.78      0.85      0.82        34\n",
      "           9       1.00      0.88      0.94        33\n",
      "\n",
      "    accuracy                           0.94       360\n",
      "   macro avg       0.95      0.94      0.94       360\n",
      "weighted avg       0.95      0.94      0.95       360\n",
      "\n",
      "[[30  0  0  0  0  0  0  0  0  0]\n",
      " [ 0 36  0  0  0  0  0  0  1  0]\n",
      " [ 0  2 36  0  0  0  0  0  0  0]\n",
      " [ 0  0  0 34  0  0  0  1  2  0]\n",
      " [ 0  0  0  0 38  0  0  0  0  0]\n",
      " [ 0  3  0  0  0 41  1  0  0  0]\n",
      " [ 0  0  0  0  0  0 42  0  0  0]\n",
      " [ 0  0  0  0  0  0  0 25  1  0]\n",
      " [ 0  4  0  0  0  0  0  1 29  0]\n",
      " [ 0  0  0  0  0  0  0  0  4 29]]\n"
     ]
    },
    {
     "data": {
      "text/plain": [
       "0.9444444444444444"
      ]
     },
     "execution_count": 18,
     "metadata": {},
     "output_type": "execute_result"
    }
   ],
   "source": [
    "from sklearn.linear_model import SGDClassifier\n",
    "sgd_model = SGDClassifier()\n",
    "sgd_model.fit(X_train, y_train)\n",
    "y_pred = sgd_model.predict(X_test)\n",
    "\n",
    "print(classification_report(y_test, y_pred))\n",
    "print(confusion_matrix(y_test, y_pred))\n",
    "\n",
    "\n",
    "# 정확도(Accuracy) 확인\n",
    "from sklearn.metrics import accuracy_score\n",
    "\n",
    "accuracy = accuracy_score(y_test, y_pred)\n",
    "accuracy"
   ]
  },
  {
   "cell_type": "markdown",
   "id": "ecdf56ee",
   "metadata": {},
   "source": [
    "#### Logistic Regression Model"
   ]
  },
  {
   "cell_type": "code",
   "execution_count": 19,
   "id": "51ac3e16",
   "metadata": {
    "ExecuteTime": {
     "end_time": "2022-01-13T14:07:08.423413Z",
     "start_time": "2022-01-13T14:07:08.180275Z"
    }
   },
   "outputs": [
    {
     "name": "stdout",
     "output_type": "stream",
     "text": [
      "              precision    recall  f1-score   support\n",
      "\n",
      "           0       1.00      1.00      1.00        30\n",
      "           1       0.85      0.92      0.88        37\n",
      "           2       1.00      0.95      0.97        38\n",
      "           3       0.97      0.92      0.94        37\n",
      "           4       0.95      1.00      0.97        38\n",
      "           5       0.98      0.96      0.97        45\n",
      "           6       1.00      0.98      0.99        42\n",
      "           7       0.96      0.92      0.94        26\n",
      "           8       0.97      0.82      0.89        34\n",
      "           9       0.82      1.00      0.90        33\n",
      "\n",
      "    accuracy                           0.95       360\n",
      "   macro avg       0.95      0.95      0.95       360\n",
      "weighted avg       0.95      0.95      0.95       360\n",
      "\n",
      "######정답과 오답을 구분해서 확인#######\n",
      "[[30  0  0  0  0  0  0  0  0  0]\n",
      " [ 0 34  0  0  1  0  0  1  0  1]\n",
      " [ 0  2 36  0  0  0  0  0  0  0]\n",
      " [ 0  0  0 34  0  0  0  0  1  2]\n",
      " [ 0  0  0  0 38  0  0  0  0  0]\n",
      " [ 0  0  0  1  0 43  0  0  0  1]\n",
      " [ 0  1  0  0  0  0 41  0  0  0]\n",
      " [ 0  0  0  0  0  1  0 24  0  1]\n",
      " [ 0  3  0  0  1  0  0  0 28  2]\n",
      " [ 0  0  0  0  0  0  0  0  0 33]]\n"
     ]
    },
    {
     "name": "stderr",
     "output_type": "stream",
     "text": [
      "/Users/baekgun/opt/anaconda3/envs/dev/lib/python3.7/site-packages/sklearn/linear_model/_logistic.py:818: ConvergenceWarning: lbfgs failed to converge (status=1):\n",
      "STOP: TOTAL NO. of ITERATIONS REACHED LIMIT.\n",
      "\n",
      "Increase the number of iterations (max_iter) or scale the data as shown in:\n",
      "    https://scikit-learn.org/stable/modules/preprocessing.html\n",
      "Please also refer to the documentation for alternative solver options:\n",
      "    https://scikit-learn.org/stable/modules/linear_model.html#logistic-regression\n",
      "  extra_warning_msg=_LOGISTIC_SOLVER_CONVERGENCE_MSG,\n"
     ]
    },
    {
     "data": {
      "text/plain": [
       "0.9472222222222222"
      ]
     },
     "execution_count": 19,
     "metadata": {},
     "output_type": "execute_result"
    }
   ],
   "source": [
    "\n",
    "from sklearn.linear_model import LogisticRegression\n",
    "logistic_model = LogisticRegression()\n",
    "logistic_model.fit(X_train, y_train)\n",
    "y_pred = logistic_model.predict(X_test)\n",
    "\n",
    "print(classification_report(y_test, y_pred))\n",
    "\n",
    "print(\"######정답과 오답을 구분해서 확인#######\")\n",
    "print(confusion_matrix(y_test, y_pred))\n",
    "\n",
    "\n",
    "# 정확도(Accuracy) 확인\n",
    "from sklearn.metrics import accuracy_score\n",
    "\n",
    "accuracy = accuracy_score(y_test, y_pred)\n",
    "accuracy"
   ]
  },
  {
   "cell_type": "markdown",
   "id": "8508b4c1",
   "metadata": {},
   "source": [
    "\n",
    "## 모델 선정 "
   ]
  },
  {
   "cell_type": "markdown",
   "id": "a459c9f5",
   "metadata": {
    "ExecuteTime": {
     "end_time": "2022-01-13T08:20:21.057595Z",
     "start_time": "2022-01-13T08:20:21.039606Z"
    }
   },
   "source": [
    "### 정리\n",
    "Recall : 실제로 True인 데이터를 모델이 True 라고 인식한 데이터수\n",
    "Precision : 모델이 True로 예측한 데이터 중 실제로 True인 데이터수\n",
    "F1 Score : Recall 값과 Precision의 값과 차이가 적을 수록 노이즈가 적은 것.\n",
    "\n",
    "SVM Model\n",
    " - Precision : 0.98\n",
    " - Recall    : 0.98\n",
    " - F1 score  : 0.98\n",
    " - Accuracy  :0.983\n",
    " - 우선 고려 항목 : \n",
    " \n",
    "\n",
    "다른 모델에 비해 가장 높은 수치가 나왔으며 수치상 가장 뛰어난 성능을 보이는 것으로 판단됩니다.\n",
    "정확도만 가지고 판단할 경우 SVM 모델 뿐만 아니라 Random Forest 역시 비슷한 정확도를 보여주었으나 정확도 만으로 판단하는 것은 불균형한 데이터로 인해 오류가 발생할 수 있기 때문에 Precision, Recall, F1-score 값을 모두 고려하였습니다.\n",
    "이상의 내용에 따라 SVM 모델을 채택하였습니다.\n"
   ]
  },
  {
   "cell_type": "markdown",
   "id": "b021c398",
   "metadata": {
    "ExecuteTime": {
     "end_time": "2022-01-13T13:35:16.893467Z",
     "start_time": "2022-01-13T13:35:16.888123Z"
    }
   },
   "source": [
    "# 와인 분류\n",
    "## 데이터"
   ]
  },
  {
   "cell_type": "code",
   "execution_count": 20,
   "id": "6f915d96",
   "metadata": {
    "ExecuteTime": {
     "end_time": "2022-01-13T14:17:00.420231Z",
     "start_time": "2022-01-13T14:17:00.404693Z"
    }
   },
   "outputs": [],
   "source": [
    "from sklearn.datasets import load_wine\n",
    "from sklearn.model_selection import train_test_split\n",
    "from sklearn.metrics import classification_report\n",
    "from sklearn.metrics import confusion_matrix\n",
    "\n",
    "wine = load_wine()  \n",
    "wine_data = wine.data   \n",
    "wine_label = wine.target  \n",
    "\n",
    "X_train, X_test, y_train, y_test = train_test_split(wine_data, \n",
    "                                                    wine_label, \n",
    "                                                    test_size=0.2, \n",
    "                                                    random_state=7)"
   ]
  },
  {
   "cell_type": "markdown",
   "id": "b597d1a2",
   "metadata": {
    "ExecuteTime": {
     "end_time": "2022-01-13T14:17:25.911315Z",
     "start_time": "2022-01-13T14:17:25.905234Z"
    }
   },
   "source": [
    "## Model"
   ]
  },
  {
   "cell_type": "code",
   "execution_count": 22,
   "id": "d0162fd6",
   "metadata": {
    "ExecuteTime": {
     "end_time": "2022-01-13T14:17:42.029234Z",
     "start_time": "2022-01-13T14:17:42.004907Z"
    }
   },
   "outputs": [
    {
     "name": "stdout",
     "output_type": "stream",
     "text": [
      "              precision    recall  f1-score   support\n",
      "\n",
      "           0       1.00      1.00      1.00         7\n",
      "           1       0.89      1.00      0.94        17\n",
      "           2       1.00      0.83      0.91        12\n",
      "\n",
      "    accuracy                           0.94        36\n",
      "   macro avg       0.96      0.94      0.95        36\n",
      "weighted avg       0.95      0.94      0.94        36\n",
      "\n"
     ]
    },
    {
     "data": {
      "text/plain": [
       "array([[ 7,  0,  0],\n",
       "       [ 0, 17,  0],\n",
       "       [ 0,  2, 10]])"
      ]
     },
     "execution_count": 22,
     "metadata": {},
     "output_type": "execute_result"
    }
   ],
   "source": [
    "# DecisionTreeClassifier\n",
    "from sklearn.tree import DecisionTreeClassifier\n",
    "\n",
    "decision_tree = DecisionTreeClassifier(random_state=32)\n",
    "decision_tree.fit(X_train, y_train)\n",
    "y_pred = decision_tree.predict(X_test)  # test 데이터로 예측\n",
    "\n",
    "print(classification_report(y_test, y_pred))\n",
    "confusion_matrix(y_test, y_pred)"
   ]
  },
  {
   "cell_type": "code",
   "execution_count": 23,
   "id": "8d19edfc",
   "metadata": {
    "ExecuteTime": {
     "end_time": "2022-01-13T14:17:59.415521Z",
     "start_time": "2022-01-13T14:17:59.150549Z"
    }
   },
   "outputs": [
    {
     "name": "stdout",
     "output_type": "stream",
     "text": [
      "              precision    recall  f1-score   support\n",
      "\n",
      "           0       1.00      1.00      1.00         7\n",
      "           1       1.00      1.00      1.00        17\n",
      "           2       1.00      1.00      1.00        12\n",
      "\n",
      "    accuracy                           1.00        36\n",
      "   macro avg       1.00      1.00      1.00        36\n",
      "weighted avg       1.00      1.00      1.00        36\n",
      "\n"
     ]
    },
    {
     "data": {
      "text/plain": [
       "array([[ 7,  0,  0],\n",
       "       [ 0, 17,  0],\n",
       "       [ 0,  0, 12]])"
      ]
     },
     "execution_count": 23,
     "metadata": {},
     "output_type": "execute_result"
    }
   ],
   "source": [
    "# Random Forest Classifier\n",
    "from sklearn.ensemble import RandomForestClassifier\n",
    "\n",
    "random_forest = RandomForestClassifier(random_state=32)\n",
    "random_forest.fit(X_train, y_train)\n",
    "y_pred = random_forest.predict(X_test)\n",
    "\n",
    "print(classification_report(y_test, y_pred))\n",
    "confusion_matrix(y_test, y_pred)"
   ]
  },
  {
   "cell_type": "code",
   "execution_count": 24,
   "id": "c511bbb7",
   "metadata": {
    "ExecuteTime": {
     "end_time": "2022-01-13T14:18:07.174621Z",
     "start_time": "2022-01-13T14:18:07.150506Z"
    }
   },
   "outputs": [
    {
     "name": "stdout",
     "output_type": "stream",
     "text": [
      "              precision    recall  f1-score   support\n",
      "\n",
      "           0       0.86      0.86      0.86         7\n",
      "           1       0.58      0.88      0.70        17\n",
      "           2       0.33      0.08      0.13        12\n",
      "\n",
      "    accuracy                           0.61        36\n",
      "   macro avg       0.59      0.61      0.56        36\n",
      "weighted avg       0.55      0.61      0.54        36\n",
      "\n"
     ]
    },
    {
     "data": {
      "text/plain": [
       "array([[ 6,  0,  1],\n",
       "       [ 1, 15,  1],\n",
       "       [ 0, 11,  1]])"
      ]
     },
     "execution_count": 24,
     "metadata": {},
     "output_type": "execute_result"
    }
   ],
   "source": [
    "# Support Vector Machine (SVM) \n",
    "from sklearn import svm\n",
    "svm_model = svm.SVC()\n",
    "\n",
    "svm_model.fit(X_train, y_train)\n",
    "y_pred = svm_model.predict(X_test)\n",
    "\n",
    "print(classification_report(y_test, y_pred))\n",
    "confusion_matrix(y_test, y_pred)"
   ]
  },
  {
   "cell_type": "code",
   "execution_count": 28,
   "id": "e1df10ae",
   "metadata": {
    "ExecuteTime": {
     "end_time": "2022-01-13T14:19:21.370099Z",
     "start_time": "2022-01-13T14:19:21.340539Z"
    }
   },
   "outputs": [
    {
     "name": "stdout",
     "output_type": "stream",
     "text": [
      "              precision    recall  f1-score   support\n",
      "\n",
      "           0       0.78      1.00      0.88         7\n",
      "           1       0.59      0.94      0.73        17\n",
      "           2       0.00      0.00      0.00        12\n",
      "\n",
      "    accuracy                           0.64        36\n",
      "   macro avg       0.46      0.65      0.53        36\n",
      "weighted avg       0.43      0.64      0.51        36\n",
      "\n"
     ]
    },
    {
     "name": "stderr",
     "output_type": "stream",
     "text": [
      "/Users/baekgun/opt/anaconda3/envs/dev/lib/python3.7/site-packages/sklearn/metrics/_classification.py:1318: UndefinedMetricWarning: Precision and F-score are ill-defined and being set to 0.0 in labels with no predicted samples. Use `zero_division` parameter to control this behavior.\n",
      "  _warn_prf(average, modifier, msg_start, len(result))\n",
      "/Users/baekgun/opt/anaconda3/envs/dev/lib/python3.7/site-packages/sklearn/metrics/_classification.py:1318: UndefinedMetricWarning: Precision and F-score are ill-defined and being set to 0.0 in labels with no predicted samples. Use `zero_division` parameter to control this behavior.\n",
      "  _warn_prf(average, modifier, msg_start, len(result))\n",
      "/Users/baekgun/opt/anaconda3/envs/dev/lib/python3.7/site-packages/sklearn/metrics/_classification.py:1318: UndefinedMetricWarning: Precision and F-score are ill-defined and being set to 0.0 in labels with no predicted samples. Use `zero_division` parameter to control this behavior.\n",
      "  _warn_prf(average, modifier, msg_start, len(result))\n"
     ]
    },
    {
     "data": {
      "text/plain": [
       "array([[ 7,  0,  0],\n",
       "       [ 1, 16,  0],\n",
       "       [ 1, 11,  0]])"
      ]
     },
     "execution_count": 28,
     "metadata": {},
     "output_type": "execute_result"
    }
   ],
   "source": [
    "# SGD Classifier\n",
    "from sklearn.linear_model import SGDClassifier\n",
    "sgd_model = SGDClassifier()\n",
    "\n",
    "sgd_model.fit(X_train, y_train)\n",
    "y_pred = sgd_model.predict(X_test)\n",
    "\n",
    "print(classification_report(y_test, y_pred))\n",
    "confusion_matrix(y_test, y_pred)"
   ]
  },
  {
   "cell_type": "code",
   "execution_count": 26,
   "id": "f661920e",
   "metadata": {
    "ExecuteTime": {
     "end_time": "2022-01-13T14:18:51.577072Z",
     "start_time": "2022-01-13T14:18:51.498920Z"
    }
   },
   "outputs": [
    {
     "name": "stdout",
     "output_type": "stream",
     "text": [
      "              precision    recall  f1-score   support\n",
      "\n",
      "           0       1.00      0.86      0.92         7\n",
      "           1       0.94      1.00      0.97        17\n",
      "           2       1.00      1.00      1.00        12\n",
      "\n",
      "    accuracy                           0.97        36\n",
      "   macro avg       0.98      0.95      0.96        36\n",
      "weighted avg       0.97      0.97      0.97        36\n",
      "\n"
     ]
    },
    {
     "name": "stderr",
     "output_type": "stream",
     "text": [
      "/Users/baekgun/opt/anaconda3/envs/dev/lib/python3.7/site-packages/sklearn/linear_model/_logistic.py:818: ConvergenceWarning: lbfgs failed to converge (status=1):\n",
      "STOP: TOTAL NO. of ITERATIONS REACHED LIMIT.\n",
      "\n",
      "Increase the number of iterations (max_iter) or scale the data as shown in:\n",
      "    https://scikit-learn.org/stable/modules/preprocessing.html\n",
      "Please also refer to the documentation for alternative solver options:\n",
      "    https://scikit-learn.org/stable/modules/linear_model.html#logistic-regression\n",
      "  extra_warning_msg=_LOGISTIC_SOLVER_CONVERGENCE_MSG,\n"
     ]
    },
    {
     "data": {
      "text/plain": [
       "array([[ 6,  1,  0],\n",
       "       [ 0, 17,  0],\n",
       "       [ 0,  0, 12]])"
      ]
     },
     "execution_count": 26,
     "metadata": {},
     "output_type": "execute_result"
    }
   ],
   "source": [
    "# Logistic Regression\n",
    "from sklearn.linear_model import LogisticRegression\n",
    "logistic_model = LogisticRegression()\n",
    "\n",
    "logistic_model.fit(X_train, y_train)\n",
    "y_pred = logistic_model.predict(X_test)\n",
    "\n",
    "print(classification_report(y_test, y_pred))\n",
    "confusion_matrix(y_test, y_pred)"
   ]
  },
  {
   "cell_type": "markdown",
   "id": "d4b61307",
   "metadata": {},
   "source": [
    "## 모델 선정\n",
    "- 분석 하고 나서도 찝찝한 기분이 드는 결과.\n",
    "- 수치상만으로는 Random Forest가 맞는데 1이라는 값이 나올 수 있나라는 우려가 드는 부분이 있다.\n",
    "- 1 이라는 결과를 오버피팅이라고 생각할 수 있는지 데이타를 세부적으로 살펴볼 필요가 있을 것 같다.\n",
    "- 일단은 연습에 집중.\n"
   ]
  },
  {
   "cell_type": "markdown",
   "id": "4fba1849",
   "metadata": {},
   "source": [
    "# 유방암 여부"
   ]
  },
  {
   "cell_type": "markdown",
   "id": "1c0e22a0",
   "metadata": {},
   "source": [
    "## 데이터"
   ]
  },
  {
   "cell_type": "code",
   "execution_count": 30,
   "id": "97c08a80",
   "metadata": {
    "ExecuteTime": {
     "end_time": "2022-01-13T14:34:59.428605Z",
     "start_time": "2022-01-13T14:34:59.407110Z"
    }
   },
   "outputs": [],
   "source": [
    "from sklearn.datasets import load_breast_cancer\n",
    "from sklearn.model_selection import train_test_split\n",
    "from sklearn.metrics import classification_report\n",
    "from sklearn.metrics import confusion_matrix\n",
    "\n",
    "breast_cancer = load_breast_cancer()  \n",
    "breast_cancer_data = breast_cancer.data  \n",
    "breast_cancer_label = breast_cancer.target  "
   ]
  },
  {
   "cell_type": "code",
   "execution_count": 31,
   "id": "3f72125c",
   "metadata": {
    "ExecuteTime": {
     "end_time": "2022-01-13T14:35:14.731980Z",
     "start_time": "2022-01-13T14:35:14.725388Z"
    }
   },
   "outputs": [],
   "source": [
    "X_train, X_test, y_train, y_test = train_test_split(breast_cancer_data, \n",
    "                                                    breast_cancer_label, \n",
    "                                                    test_size=0.2, \n",
    "                                                    random_state=7)"
   ]
  },
  {
   "cell_type": "markdown",
   "id": "0db72519",
   "metadata": {
    "ExecuteTime": {
     "end_time": "2022-01-13T14:35:24.710251Z",
     "start_time": "2022-01-13T14:35:24.703951Z"
    }
   },
   "source": [
    "## Model"
   ]
  },
  {
   "cell_type": "code",
   "execution_count": 33,
   "id": "d9b84d81",
   "metadata": {
    "ExecuteTime": {
     "end_time": "2022-01-13T14:35:46.845400Z",
     "start_time": "2022-01-13T14:35:46.815348Z"
    }
   },
   "outputs": [
    {
     "name": "stdout",
     "output_type": "stream",
     "text": [
      "              precision    recall  f1-score   support\n",
      "\n",
      "           0       0.92      0.82      0.87        40\n",
      "           1       0.91      0.96      0.93        74\n",
      "\n",
      "    accuracy                           0.91       114\n",
      "   macro avg       0.91      0.89      0.90       114\n",
      "weighted avg       0.91      0.91      0.91       114\n",
      "\n"
     ]
    },
    {
     "data": {
      "text/plain": [
       "array([[33,  7],\n",
       "       [ 3, 71]])"
      ]
     },
     "execution_count": 33,
     "metadata": {},
     "output_type": "execute_result"
    }
   ],
   "source": [
    "# DecisionTreeClassifier\n",
    "from sklearn.tree import DecisionTreeClassifier\n",
    "\n",
    "decision_tree = DecisionTreeClassifier(random_state=32)\n",
    "decision_tree.fit(X_train, y_train)\n",
    "y_pred = decision_tree.predict(X_test)\n",
    "\n",
    "print(classification_report(y_test, y_pred))\n",
    "confusion_matrix(y_test, y_pred)"
   ]
  },
  {
   "cell_type": "code",
   "execution_count": 34,
   "id": "c2b7d6f9",
   "metadata": {
    "ExecuteTime": {
     "end_time": "2022-01-13T14:35:55.842250Z",
     "start_time": "2022-01-13T14:35:55.511626Z"
    }
   },
   "outputs": [
    {
     "name": "stdout",
     "output_type": "stream",
     "text": [
      "              precision    recall  f1-score   support\n",
      "\n",
      "           0       1.00      1.00      1.00        40\n",
      "           1       1.00      1.00      1.00        74\n",
      "\n",
      "    accuracy                           1.00       114\n",
      "   macro avg       1.00      1.00      1.00       114\n",
      "weighted avg       1.00      1.00      1.00       114\n",
      "\n"
     ]
    },
    {
     "data": {
      "text/plain": [
       "array([[40,  0],\n",
       "       [ 0, 74]])"
      ]
     },
     "execution_count": 34,
     "metadata": {},
     "output_type": "execute_result"
    }
   ],
   "source": [
    "# Random Forest Classifier\n",
    "from sklearn.ensemble import RandomForestClassifier\n",
    "\n",
    "random_forest = RandomForestClassifier(random_state=32)\n",
    "random_forest.fit(X_train, y_train)\n",
    "y_pred = random_forest.predict(X_test)\n",
    "\n",
    "print(classification_report(y_test, y_pred))\n",
    "confusion_matrix(y_test, y_pred)"
   ]
  },
  {
   "cell_type": "code",
   "execution_count": 35,
   "id": "d20c98fc",
   "metadata": {
    "ExecuteTime": {
     "end_time": "2022-01-13T14:36:05.087365Z",
     "start_time": "2022-01-13T14:36:05.056587Z"
    }
   },
   "outputs": [
    {
     "name": "stdout",
     "output_type": "stream",
     "text": [
      "              precision    recall  f1-score   support\n",
      "\n",
      "           0       1.00      0.72      0.84        40\n",
      "           1       0.87      1.00      0.93        74\n",
      "\n",
      "    accuracy                           0.90       114\n",
      "   macro avg       0.94      0.86      0.89       114\n",
      "weighted avg       0.92      0.90      0.90       114\n",
      "\n"
     ]
    },
    {
     "data": {
      "text/plain": [
       "array([[29, 11],\n",
       "       [ 0, 74]])"
      ]
     },
     "execution_count": 35,
     "metadata": {},
     "output_type": "execute_result"
    }
   ],
   "source": [
    "# Support Vector Machine (SVM) \n",
    "from sklearn import svm\n",
    "svm_model = svm.SVC()\n",
    "\n",
    "svm_model.fit(X_train, y_train)\n",
    "y_pred = svm_model.predict(X_test)\n",
    "\n",
    "print(classification_report(y_test, y_pred))\n",
    "confusion_matrix(y_test, y_pred)"
   ]
  },
  {
   "cell_type": "code",
   "execution_count": 36,
   "id": "6fff49a9",
   "metadata": {
    "ExecuteTime": {
     "end_time": "2022-01-13T14:36:13.301189Z",
     "start_time": "2022-01-13T14:36:13.272788Z"
    }
   },
   "outputs": [
    {
     "name": "stdout",
     "output_type": "stream",
     "text": [
      "              precision    recall  f1-score   support\n",
      "\n",
      "           0       0.85      0.82      0.84        40\n",
      "           1       0.91      0.92      0.91        74\n",
      "\n",
      "    accuracy                           0.89       114\n",
      "   macro avg       0.88      0.87      0.87       114\n",
      "weighted avg       0.89      0.89      0.89       114\n",
      "\n"
     ]
    },
    {
     "data": {
      "text/plain": [
       "array([[33,  7],\n",
       "       [ 6, 68]])"
      ]
     },
     "execution_count": 36,
     "metadata": {},
     "output_type": "execute_result"
    }
   ],
   "source": [
    "# SGD Classifier\n",
    "from sklearn.linear_model import SGDClassifier\n",
    "sgd_model = SGDClassifier()\n",
    "\n",
    "sgd_model.fit(X_train, y_train)\n",
    "y_pred = sgd_model.predict(X_test)\n",
    "\n",
    "print(classification_report(y_test, y_pred))\n",
    "confusion_matrix(y_test, y_pred)"
   ]
  },
  {
   "cell_type": "code",
   "execution_count": 37,
   "id": "532db325",
   "metadata": {
    "ExecuteTime": {
     "end_time": "2022-01-13T14:36:20.673846Z",
     "start_time": "2022-01-13T14:36:20.576775Z"
    }
   },
   "outputs": [
    {
     "name": "stdout",
     "output_type": "stream",
     "text": [
      "              precision    recall  f1-score   support\n",
      "\n",
      "           0       1.00      0.82      0.90        40\n",
      "           1       0.91      1.00      0.95        74\n",
      "\n",
      "    accuracy                           0.94       114\n",
      "   macro avg       0.96      0.91      0.93       114\n",
      "weighted avg       0.94      0.94      0.94       114\n",
      "\n"
     ]
    },
    {
     "name": "stderr",
     "output_type": "stream",
     "text": [
      "/Users/baekgun/opt/anaconda3/envs/dev/lib/python3.7/site-packages/sklearn/linear_model/_logistic.py:818: ConvergenceWarning: lbfgs failed to converge (status=1):\n",
      "STOP: TOTAL NO. of ITERATIONS REACHED LIMIT.\n",
      "\n",
      "Increase the number of iterations (max_iter) or scale the data as shown in:\n",
      "    https://scikit-learn.org/stable/modules/preprocessing.html\n",
      "Please also refer to the documentation for alternative solver options:\n",
      "    https://scikit-learn.org/stable/modules/linear_model.html#logistic-regression\n",
      "  extra_warning_msg=_LOGISTIC_SOLVER_CONVERGENCE_MSG,\n"
     ]
    },
    {
     "data": {
      "text/plain": [
       "array([[33,  7],\n",
       "       [ 0, 74]])"
      ]
     },
     "execution_count": 37,
     "metadata": {},
     "output_type": "execute_result"
    }
   ],
   "source": [
    "# Logistic Regression\n",
    "from sklearn.linear_model import LogisticRegression\n",
    "logistic_model = LogisticRegression()\n",
    "\n",
    "logistic_model.fit(X_train, y_train)\n",
    "y_pred = logistic_model.predict(X_test)\n",
    "\n",
    "print(classification_report(y_test, y_pred))\n",
    "confusion_matrix(y_test, y_pred)"
   ]
  },
  {
   "cell_type": "markdown",
   "id": "84c75121",
   "metadata": {},
   "source": [
    "## 모델 선정"
   ]
  },
  {
   "cell_type": "markdown",
   "id": "416378c4",
   "metadata": {
    "ExecuteTime": {
     "end_time": "2022-01-13T14:47:23.129411Z",
     "start_time": "2022-01-13T14:47:23.120438Z"
    }
   },
   "source": [
    "- 결과를 보고 살짝 한숨을 쉰^^;;;\n",
    "- 도대체 1의 의미는 무엇일까.\n",
    "    - 찾아보았을 때에는 데이터를 확인해보아야 한다는데\n",
    "    - 사실 데이터의 어떤 부분을 보아야 할지 모르겠다는 것.\n",
    "    - 이미지를 분류하는 것에 있어서 잘 맞춘다는 것이니 좋은것?\n",
    "- 여러가지 고민 결과 한가지 방안이 생각하는 것은 아래에서.\n"
   ]
  },
  {
   "cell_type": "markdown",
   "id": "b7c74694",
   "metadata": {},
   "source": [
    "# 리뷰"
   ]
  },
  {
   "cell_type": "markdown",
   "id": "b1fe19ff",
   "metadata": {},
   "source": [
    "- 데이터 평가 지표에 대한 막연한 감은 생겼지만 약간의 혼란스러움도 생김\n",
    "<br><br>\n",
    "- 1이라는 정확도에 있어서 가장 크게 고민이 되는 부분이지만   \n",
    "이것은 데이터셋을 나눠서 테스트해보면 해소될 수 있지 않을까 조심스럽게 추측해봄.\n",
    "<br><br>\n",
    "- 데이터 셋에서 Train을 줄이고 Test셋을 늘린 후 (적당한 비율로)   \n",
    "정확도를 확인했을 때 달라지는 부분이 있지 않을까 하는 것.\n",
    "<br><br>\n",
    "- 이 평가 지표에서 오버피팅이라면 어떻게 판단할 수 있는 사례에 대해 좀 더 알았으면 함.\n",
    "    - 수치가 어떻게 나왔을 떄 오버 피팅인지.\n",
    "    - 어떤 식의 그래프를 그리면 오버피팅을 의심해 봐야 하는지..\n",
    "    - 등에 대한 내용이 좀 더 필요하고 공부해야 할 듯.\n",
    "<br><br>\n",
    "- 사실 Random forest 수치가 잘 나왔다는 것은 극단적인 수치가 없다고 판단할 수 있는 것이고\n",
    "- 이 부분에 대해 계속 오버피팅에 대한 의구심이 떠나가질 않음.\n",
    "- 데이터 셋을 좀 더 나눠서 다시 테스트가 필요할 듯 함.\n",
    "\n"
   ]
  },
  {
   "cell_type": "code",
   "execution_count": null,
   "id": "1e2a599e",
   "metadata": {},
   "outputs": [],
   "source": []
  }
 ],
 "metadata": {
  "hide_input": false,
  "kernelspec": {
   "display_name": "Python 3 (ipykernel)",
   "language": "python",
   "name": "python3"
  },
  "language_info": {
   "codemirror_mode": {
    "name": "ipython",
    "version": 3
   },
   "file_extension": ".py",
   "mimetype": "text/x-python",
   "name": "python",
   "nbconvert_exporter": "python",
   "pygments_lexer": "ipython3",
   "version": "3.9.7"
  },
  "toc": {
   "base_numbering": 1,
   "nav_menu": {},
   "number_sections": true,
   "sideBar": true,
   "skip_h1_title": false,
   "title_cell": "Table of Contents",
   "title_sidebar": "Contents",
   "toc_cell": false,
   "toc_position": {},
   "toc_section_display": true,
   "toc_window_display": true
  },
  "varInspector": {
   "cols": {
    "lenName": 16,
    "lenType": 16,
    "lenVar": 40
   },
   "kernels_config": {
    "python": {
     "delete_cmd_postfix": "",
     "delete_cmd_prefix": "del ",
     "library": "var_list.py",
     "varRefreshCmd": "print(var_dic_list())"
    },
    "r": {
     "delete_cmd_postfix": ") ",
     "delete_cmd_prefix": "rm(",
     "library": "var_list.r",
     "varRefreshCmd": "cat(var_dic_list()) "
    }
   },
   "types_to_exclude": [
    "module",
    "function",
    "builtin_function_or_method",
    "instance",
    "_Feature"
   ],
   "window_display": false
  }
 },
 "nbformat": 4,
 "nbformat_minor": 5
}
