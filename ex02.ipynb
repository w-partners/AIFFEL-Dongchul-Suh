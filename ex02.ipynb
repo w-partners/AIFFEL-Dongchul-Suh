{
 "cells": [
  {
   "cell_type": "markdown",
   "id": "f3f2dd07",
   "metadata": {},
   "source": [
    "# Iris의 세 가지 품종, 분류해볼 수 있겠어요?"
   ]
  },
  {
   "cell_type": "markdown",
   "id": "2f7edfcb",
   "metadata": {},
   "source": [
    "## 들어가며"
   ]
  },
  {
   "cell_type": "markdown",
   "id": "a81ca7eb",
   "metadata": {},
   "source": [
    "학습 목표\n",
    "\n",
    "---\n",
    "- scikit-learn에 내장된 예제 데이터셋의 종류를 알고 활용할 수 있다.\n",
    "- scikit-learn에 내장된 분류 모델들을 학습시키고 예측해 볼 수 있다.\n",
    "- 모델의 성능을 평가하는 지표의 종류에 대해 이해하고, 활용 및 확인해 볼 수 있다.\n",
    "- Decision Tree, XGBoost, RandomForest, 로지스틱 회귀 모델을 활용해서 간단하게 학습 및 예측해 볼 수 있다.\n",
    "- 데이터셋을 사용해서 스스로 분류 기초 실습을 진행할 수 있다.\n",
    "\n",
    "\n",
    "학습 전제\n",
    "\n",
    "---\n",
    "- scikit-learn을 활용해서 머신러닝을 시도해본 적이 없다.\n",
    "- scikit-learn에 내장된 분류 모델을 활용해본 적이 없다.\n",
    "- 지도학습의 분류 실습을 해 본 적이 없다.\n",
    "- 머신러닝 모델을 학습시켜보고, 그 성능을 평가해본 적이 없다."
   ]
  },
  {
   "cell_type": "markdown",
   "id": "29be9fab",
   "metadata": {},
   "source": [
    "## Iris의 세 가지 품종, 분류해 볼까요?"
   ]
  },
  {
   "cell_type": "markdown",
   "id": "d7cc96d4",
   "metadata": {},
   "source": [
    "### 붓꽃 분류 문제\n",
    "> pip install scikit-learn  \n",
    "> pip install matplotlib\n",
    "\n",
    "\n",
    "#### 분류하기 위한 데이터\n",
    "___\n",
    "- 사이킷런(scikit-learn)에 내장된 데이터 사용\n",
    "- 붓꽃 데이터가 내장되어 있음.(그래서 쓴다고..ㅋ)\n",
    "\n",
    "#### 사이킷런(scikit-learn)\n",
    "___\n",
    "- Toy datasets : 7가지 , 간단하고 작은 데이터셋\n",
    "    - boston\n",
    "    - iris \n",
    "    - diabetes\n",
    "    - digits\n",
    "    - linnerrud\n",
    "    - wine\n",
    "    - breast \n",
    "    - cancer\n",
    "---\n",
    "\n",
    "- Real world datasets : 7가지 , 복잡하고 현실 세계 반영한 데이터셋\n",
    "    - olivetti faces\n",
    "    - 20 newsgroups\n",
    "    - labeled faces\n",
    "    - forest covertype\n",
    "    - RCV1\n",
    "    - Kddcup 99\n",
    "    - California housin"
   ]
  },
  {
   "cell_type": "markdown",
   "id": "d7ff450c",
   "metadata": {},
   "source": [
    "![iris](./ref/ex02-01.png)"
   ]
  },
  {
   "cell_type": "markdown",
   "id": "ee135b53",
   "metadata": {},
   "source": [
    " > petal은 꽃잎, sepal은 꽃받침\n",
    "\n",
    "<br>\n",
    "\n",
    "#### 시작전 데이터를 정확히 자세 확인\n",
    "\n",
    " - Total data : 150(Instance)\n",
    " - Attributes : 4\n",
    "     - sepal \n",
    "         - length\n",
    "         - width\n",
    "     - petal \n",
    "         - length\n",
    "         - width\n",
    " - Class\n",
    "     - Iris\n",
    "         - Setosa\n",
    "         - Versicolour\n",
    "         - virginica"
   ]
  },
  {
   "cell_type": "markdown",
   "id": "61f8731c",
   "metadata": {},
   "source": [
    "### 데이터 준비, 그리고 자세히 살펴보기는 기본!"
   ]
  },
  {
   "cell_type": "markdown",
   "id": "e8c3fd42",
   "metadata": {},
   "source": [
    "#### 데이터 로딩."
   ]
  },
  {
   "cell_type": "code",
   "execution_count": 2,
   "id": "0bd7516e",
   "metadata": {},
   "outputs": [
    {
     "name": "stdout",
     "output_type": "stream",
     "text": [
      "['DESCR', 'data', 'data_module', 'feature_names', 'filename', 'frame', 'target', 'target_names']\n"
     ]
    }
   ],
   "source": [
    "#  sklearn 라이브러리의 datasets 패키지 안 load_iris를 import \n",
    "#  iris 데이터를 로딩\n",
    "\n",
    "from sklearn.datasets import load_iris\n",
    "\n",
    "iris = load_iris()\n",
    "\n",
    "print(dir(iris)) # iris 객체가 어떤 변수와 메서드를 가지고 있나\n",
    "# dir()는 객체가 어떤 변수와 메서드를 가지고 있는지 나열함"
   ]
  },
  {
   "cell_type": "markdown",
   "id": "72f24d4f",
   "metadata": {},
   "source": [
    "#### 담긴 정보 확인"
   ]
  },
  {
   "cell_type": "code",
   "execution_count": 3,
   "id": "a5b499ee",
   "metadata": {},
   "outputs": [
    {
     "data": {
      "text/plain": [
       "dict_keys(['data', 'target', 'frame', 'target_names', 'DESCR', 'feature_names', 'filename', 'data_module'])"
      ]
     },
     "execution_count": 3,
     "metadata": {},
     "output_type": "execute_result"
    }
   ],
   "source": [
    "#  iris에는 어떤 정보들이 담겼을지, keys() 라는 메서드로 확인\n",
    "iris.keys()"
   ]
  },
  {
   "cell_type": "markdown",
   "id": "4832083c",
   "metadata": {},
   "source": [
    "> 7가지 : 'data', 'target', 'frame', 'target_names', 'DESCR', 'feature_names', 'filename'  \n",
    ">  \n",
    "->>data_module 은???"
   ]
  },
  {
   "cell_type": "markdown",
   "id": "2c630346",
   "metadata": {},
   "source": [
    "#### 중요 데이터 변수에 저장"
   ]
  },
  {
   "cell_type": "code",
   "execution_count": 4,
   "id": "d8accb4a",
   "metadata": {},
   "outputs": [
    {
     "name": "stdout",
     "output_type": "stream",
     "text": [
      "(150, 4)\n"
     ]
    }
   ],
   "source": [
    "#  중요한 데이터는 iris_data 변수에 저장\n",
    "\n",
    "iris_data = iris.data"
   ]
  },
  {
   "cell_type": "markdown",
   "id": "5483c82e",
   "metadata": {},
   "source": [
    "#### 데이터 크기 확인."
   ]
  },
  {
   "cell_type": "code",
   "execution_count": 6,
   "id": "993ae7f2",
   "metadata": {},
   "outputs": [
    {
     "name": "stdout",
     "output_type": "stream",
     "text": [
      "(150, 4)\n"
     ]
    }
   ],
   "source": [
    "print(iris_data.shape) \n",
    "#shape는 배열의 형상정보를 출력"
   ]
  },
  {
   "cell_type": "markdown",
   "id": "aeb5cbed",
   "metadata": {},
   "source": [
    "> - 150개 데이터 \n",
    "> - 4종류의 정보"
   ]
  },
  {
   "cell_type": "markdown",
   "id": "c1b9db33",
   "metadata": {},
   "source": [
    "#### 샘플데이터 확인."
   ]
  },
  {
   "cell_type": "code",
   "execution_count": 8,
   "id": "dacfa397",
   "metadata": {},
   "outputs": [
    {
     "data": {
      "text/plain": [
       "array([5.1, 3.5, 1.4, 0.2])"
      ]
     },
     "execution_count": 8,
     "metadata": {},
     "output_type": "execute_result"
    }
   ],
   "source": [
    "iris_data[0] # 0번 index에 접근接近"
   ]
  },
  {
   "cell_type": "markdown",
   "id": "8c340026",
   "metadata": {},
   "source": [
    "#### 해결할 문제 확인. -> 라벨 or 타겟\n",
    "> 붓꽃의 꽃잎 길이와 폭 / 꽃받침 길이와 폭 이용  \n",
    ">  \n",
    "> 붓꽃의 종류가 setosa, versicolor, virginica 세 가지 중 무엇인지."
   ]
  },
  {
   "cell_type": "markdown",
   "id": "cc5203c2",
   "metadata": {},
   "source": [
    "#### 타겟 정보 확인"
   ]
  },
  {
   "cell_type": "code",
   "execution_count": 9,
   "id": "935e9d9b",
   "metadata": {},
   "outputs": [
    {
     "name": "stdout",
     "output_type": "stream",
     "text": [
      "(150,)\n"
     ]
    },
    {
     "data": {
      "text/plain": [
       "array([0, 0, 0, 0, 0, 0, 0, 0, 0, 0, 0, 0, 0, 0, 0, 0, 0, 0, 0, 0, 0, 0,\n",
       "       0, 0, 0, 0, 0, 0, 0, 0, 0, 0, 0, 0, 0, 0, 0, 0, 0, 0, 0, 0, 0, 0,\n",
       "       0, 0, 0, 0, 0, 0, 1, 1, 1, 1, 1, 1, 1, 1, 1, 1, 1, 1, 1, 1, 1, 1,\n",
       "       1, 1, 1, 1, 1, 1, 1, 1, 1, 1, 1, 1, 1, 1, 1, 1, 1, 1, 1, 1, 1, 1,\n",
       "       1, 1, 1, 1, 1, 1, 1, 1, 1, 1, 1, 1, 2, 2, 2, 2, 2, 2, 2, 2, 2, 2,\n",
       "       2, 2, 2, 2, 2, 2, 2, 2, 2, 2, 2, 2, 2, 2, 2, 2, 2, 2, 2, 2, 2, 2,\n",
       "       2, 2, 2, 2, 2, 2, 2, 2, 2, 2, 2, 2, 2, 2, 2, 2, 2, 2])"
      ]
     },
     "execution_count": 9,
     "metadata": {},
     "output_type": "execute_result"
    }
   ],
   "source": [
    "iris_label = iris.target  # iris_label 변수에 타겟정보 저장\n",
    "print(iris_label.shape)   # 변수 크기 출력\n",
    "iris_label                # "
   ]
  },
  {
   "cell_type": "code",
   "execution_count": 10,
   "id": "956b0c8f",
   "metadata": {},
   "outputs": [
    {
     "data": {
      "text/plain": [
       "array(['setosa', 'versicolor', 'virginica'], dtype='<U10')"
      ]
     },
     "execution_count": 10,
     "metadata": {},
     "output_type": "execute_result"
    }
   ],
   "source": [
    "# 라벨의 이름은 target_names에서 확인\n",
    "iris.target_names"
   ]
  },
  {
   "cell_type": "markdown",
   "id": "0a07254c",
   "metadata": {},
   "source": [
    "> - 0 이라면 setosa, \n",
    "> - 1 이라면 versicolor, \n",
    "> - 2 라면 virginica"
   ]
  },
  {
   "cell_type": "code",
   "execution_count": 11,
   "id": "c87e6149",
   "metadata": {},
   "outputs": [
    {
     "name": "stdout",
     "output_type": "stream",
     "text": [
      ".. _iris_dataset:\n",
      "\n",
      "Iris plants dataset\n",
      "--------------------\n",
      "\n",
      "**Data Set Characteristics:**\n",
      "\n",
      "    :Number of Instances: 150 (50 in each of three classes)\n",
      "    :Number of Attributes: 4 numeric, predictive attributes and the class\n",
      "    :Attribute Information:\n",
      "        - sepal length in cm\n",
      "        - sepal width in cm\n",
      "        - petal length in cm\n",
      "        - petal width in cm\n",
      "        - class:\n",
      "                - Iris-Setosa\n",
      "                - Iris-Versicolour\n",
      "                - Iris-Virginica\n",
      "                \n",
      "    :Summary Statistics:\n",
      "\n",
      "    ============== ==== ==== ======= ===== ====================\n",
      "                    Min  Max   Mean    SD   Class Correlation\n",
      "    ============== ==== ==== ======= ===== ====================\n",
      "    sepal length:   4.3  7.9   5.84   0.83    0.7826\n",
      "    sepal width:    2.0  4.4   3.05   0.43   -0.4194\n",
      "    petal length:   1.0  6.9   3.76   1.76    0.9490  (high!)\n",
      "    petal width:    0.1  2.5   1.20   0.76    0.9565  (high!)\n",
      "    ============== ==== ==== ======= ===== ====================\n",
      "\n",
      "    :Missing Attribute Values: None\n",
      "    :Class Distribution: 33.3% for each of 3 classes.\n",
      "    :Creator: R.A. Fisher\n",
      "    :Donor: Michael Marshall (MARSHALL%PLU@io.arc.nasa.gov)\n",
      "    :Date: July, 1988\n",
      "\n",
      "The famous Iris database, first used by Sir R.A. Fisher. The dataset is taken\n",
      "from Fisher's paper. Note that it's the same as in R, but not as in the UCI\n",
      "Machine Learning Repository, which has two wrong data points.\n",
      "\n",
      "This is perhaps the best known database to be found in the\n",
      "pattern recognition literature.  Fisher's paper is a classic in the field and\n",
      "is referenced frequently to this day.  (See Duda & Hart, for example.)  The\n",
      "data set contains 3 classes of 50 instances each, where each class refers to a\n",
      "type of iris plant.  One class is linearly separable from the other 2; the\n",
      "latter are NOT linearly separable from each other.\n",
      "\n",
      ".. topic:: References\n",
      "\n",
      "   - Fisher, R.A. \"The use of multiple measurements in taxonomic problems\"\n",
      "     Annual Eugenics, 7, Part II, 179-188 (1936); also in \"Contributions to\n",
      "     Mathematical Statistics\" (John Wiley, NY, 1950).\n",
      "   - Duda, R.O., & Hart, P.E. (1973) Pattern Classification and Scene Analysis.\n",
      "     (Q327.D83) John Wiley & Sons.  ISBN 0-471-22361-1.  See page 218.\n",
      "   - Dasarathy, B.V. (1980) \"Nosing Around the Neighborhood: A New System\n",
      "     Structure and Classification Rule for Recognition in Partially Exposed\n",
      "     Environments\".  IEEE Transactions on Pattern Analysis and Machine\n",
      "     Intelligence, Vol. PAMI-2, No. 1, 67-71.\n",
      "   - Gates, G.W. (1972) \"The Reduced Nearest Neighbor Rule\".  IEEE Transactions\n",
      "     on Information Theory, May 1972, 431-433.\n",
      "   - See also: 1988 MLC Proceedings, 54-64.  Cheeseman et al\"s AUTOCLASS II\n",
      "     conceptual clustering system finds 3 classes in the data.\n",
      "   - Many, many more ...\n"
     ]
    }
   ],
   "source": [
    "print(iris.DESCR) # DESCR에는 데이터셋의 설명"
   ]
  },
  {
   "cell_type": "code",
   "execution_count": 12,
   "id": "c6452523",
   "metadata": {},
   "outputs": [
    {
     "data": {
      "text/plain": [
       "['sepal length (cm)',\n",
       " 'sepal width (cm)',\n",
       " 'petal length (cm)',\n",
       " 'petal width (cm)']"
      ]
     },
     "execution_count": 12,
     "metadata": {},
     "output_type": "execute_result"
    }
   ],
   "source": [
    "# feature_names에는 다음과 같이 4개의 각 feature에 대한 설명\n",
    "iris.feature_names"
   ]
  },
  {
   "cell_type": "code",
   "execution_count": 13,
   "id": "09538845",
   "metadata": {},
   "outputs": [
    {
     "data": {
      "text/plain": [
       "'iris.csv'"
      ]
     },
     "execution_count": 13,
     "metadata": {},
     "output_type": "execute_result"
    }
   ],
   "source": [
    "# filename에는 데이터셋의 전체 이름\n",
    "iris.filename"
   ]
  },
  {
   "cell_type": "markdown",
   "id": "ebb33b88",
   "metadata": {},
   "source": [
    "> csv 파일이군..."
   ]
  },
  {
   "cell_type": "markdown",
   "id": "1610aae8",
   "metadata": {},
   "source": [
    "## 첫 번째 머신러닝 실습, 간단하고도 빠르게!"
   ]
  },
  {
   "cell_type": "markdown",
   "id": "fba3c6e7",
   "metadata": {},
   "source": [
    "### 머신러닝 모델을 학습시키기 위한 문제지와 정답지 준비\n",
    " > pandas = pd = 판다스\n",
    " > - 라이브러리 \n",
    " > - 파이썬에서 표 형태로 이루어진 2차원 배열 데이터를 다루는 데에 가장 많이 쓰이는 도구\n",
    " > - 표 데이터를 활용해서 데이터 분석\n",
    " > - 대형 데이터의 여러 통계량을 다루는 것에 최적화"
   ]
  },
  {
   "cell_type": "code",
   "execution_count": 14,
   "id": "3a927cd9",
   "metadata": {},
   "outputs": [
    {
     "name": "stdout",
     "output_type": "stream",
     "text": [
      "1.3.5\n"
     ]
    }
   ],
   "source": [
    "import pandas as pd\n",
    "\n",
    "print(pd.__version__)"
   ]
  },
  {
   "cell_type": "code",
   "execution_count": 16,
   "id": "0a2fc2f2",
   "metadata": {},
   "outputs": [],
   "source": [
    "# 붓꽃 데이터셋을 pandas가 제공하는 DataFrame 이라는 자료형으로 변환\n",
    "iris_df = pd.DataFrame(data=iris_data, columns=iris.feature_names)\n",
    "# iris_df\n",
    "\n",
    "# DataFrame 을 만들면서 data에는 iris_data를 넣어주고, 각 컬럼에는 feature_names로 이름을 붙여줌"
   ]
  },
  {
   "cell_type": "code",
   "execution_count": 17,
   "id": "5026d02f",
   "metadata": {},
   "outputs": [
    {
     "data": {
      "text/html": [
       "<div>\n",
       "<style scoped>\n",
       "    .dataframe tbody tr th:only-of-type {\n",
       "        vertical-align: middle;\n",
       "    }\n",
       "\n",
       "    .dataframe tbody tr th {\n",
       "        vertical-align: top;\n",
       "    }\n",
       "\n",
       "    .dataframe thead th {\n",
       "        text-align: right;\n",
       "    }\n",
       "</style>\n",
       "<table border=\"1\" class=\"dataframe\">\n",
       "  <thead>\n",
       "    <tr style=\"text-align: right;\">\n",
       "      <th></th>\n",
       "      <th>sepal length (cm)</th>\n",
       "      <th>sepal width (cm)</th>\n",
       "      <th>petal length (cm)</th>\n",
       "      <th>petal width (cm)</th>\n",
       "      <th>label</th>\n",
       "    </tr>\n",
       "  </thead>\n",
       "  <tbody>\n",
       "    <tr>\n",
       "      <th>0</th>\n",
       "      <td>5.1</td>\n",
       "      <td>3.5</td>\n",
       "      <td>1.4</td>\n",
       "      <td>0.2</td>\n",
       "      <td>0</td>\n",
       "    </tr>\n",
       "    <tr>\n",
       "      <th>1</th>\n",
       "      <td>4.9</td>\n",
       "      <td>3.0</td>\n",
       "      <td>1.4</td>\n",
       "      <td>0.2</td>\n",
       "      <td>0</td>\n",
       "    </tr>\n",
       "    <tr>\n",
       "      <th>2</th>\n",
       "      <td>4.7</td>\n",
       "      <td>3.2</td>\n",
       "      <td>1.3</td>\n",
       "      <td>0.2</td>\n",
       "      <td>0</td>\n",
       "    </tr>\n",
       "    <tr>\n",
       "      <th>3</th>\n",
       "      <td>4.6</td>\n",
       "      <td>3.1</td>\n",
       "      <td>1.5</td>\n",
       "      <td>0.2</td>\n",
       "      <td>0</td>\n",
       "    </tr>\n",
       "    <tr>\n",
       "      <th>4</th>\n",
       "      <td>5.0</td>\n",
       "      <td>3.6</td>\n",
       "      <td>1.4</td>\n",
       "      <td>0.2</td>\n",
       "      <td>0</td>\n",
       "    </tr>\n",
       "    <tr>\n",
       "      <th>...</th>\n",
       "      <td>...</td>\n",
       "      <td>...</td>\n",
       "      <td>...</td>\n",
       "      <td>...</td>\n",
       "      <td>...</td>\n",
       "    </tr>\n",
       "    <tr>\n",
       "      <th>145</th>\n",
       "      <td>6.7</td>\n",
       "      <td>3.0</td>\n",
       "      <td>5.2</td>\n",
       "      <td>2.3</td>\n",
       "      <td>2</td>\n",
       "    </tr>\n",
       "    <tr>\n",
       "      <th>146</th>\n",
       "      <td>6.3</td>\n",
       "      <td>2.5</td>\n",
       "      <td>5.0</td>\n",
       "      <td>1.9</td>\n",
       "      <td>2</td>\n",
       "    </tr>\n",
       "    <tr>\n",
       "      <th>147</th>\n",
       "      <td>6.5</td>\n",
       "      <td>3.0</td>\n",
       "      <td>5.2</td>\n",
       "      <td>2.0</td>\n",
       "      <td>2</td>\n",
       "    </tr>\n",
       "    <tr>\n",
       "      <th>148</th>\n",
       "      <td>6.2</td>\n",
       "      <td>3.4</td>\n",
       "      <td>5.4</td>\n",
       "      <td>2.3</td>\n",
       "      <td>2</td>\n",
       "    </tr>\n",
       "    <tr>\n",
       "      <th>149</th>\n",
       "      <td>5.9</td>\n",
       "      <td>3.0</td>\n",
       "      <td>5.1</td>\n",
       "      <td>1.8</td>\n",
       "      <td>2</td>\n",
       "    </tr>\n",
       "  </tbody>\n",
       "</table>\n",
       "<p>150 rows × 5 columns</p>\n",
       "</div>"
      ],
      "text/plain": [
       "     sepal length (cm)  sepal width (cm)  petal length (cm)  petal width (cm)  \\\n",
       "0                  5.1               3.5                1.4               0.2   \n",
       "1                  4.9               3.0                1.4               0.2   \n",
       "2                  4.7               3.2                1.3               0.2   \n",
       "3                  4.6               3.1                1.5               0.2   \n",
       "4                  5.0               3.6                1.4               0.2   \n",
       "..                 ...               ...                ...               ...   \n",
       "145                6.7               3.0                5.2               2.3   \n",
       "146                6.3               2.5                5.0               1.9   \n",
       "147                6.5               3.0                5.2               2.0   \n",
       "148                6.2               3.4                5.4               2.3   \n",
       "149                5.9               3.0                5.1               1.8   \n",
       "\n",
       "     label  \n",
       "0        0  \n",
       "1        0  \n",
       "2        0  \n",
       "3        0  \n",
       "4        0  \n",
       "..     ...  \n",
       "145      2  \n",
       "146      2  \n",
       "147      2  \n",
       "148      2  \n",
       "149      2  \n",
       "\n",
       "[150 rows x 5 columns]"
      ]
     },
     "execution_count": 17,
     "metadata": {},
     "output_type": "execute_result"
    }
   ],
   "source": [
    "# label 컬럼 추가\n",
    "iris_df[\"label\"] = iris.target\n",
    "iris_df"
   ]
  },
  {
   "cell_type": "markdown",
   "id": "4268febe",
   "metadata": {},
   "source": [
    "#### 문제지와 정답지 준비\n",
    "\n",
    ">  - 4가지의 feature 데이터들은 바로 머신러닝 모델이 풀어야 하는 문제지  \n",
    ">\n",
    ">      -> [5.1, 3.5, 1.4, 0.2]라는 문제가 주어진다면 모델은 0, 즉 setosa라는 답을 맞혀야 하는 것\n",
    ">  \n",
    ">  \n",
    ">   - label 데이터는 머신러닝 모델에게 정답지\n",
    ">\n",
    ">      ->  0, 1, 2와 같이 표현된 label 데이터"
   ]
  },
  {
   "cell_type": "markdown",
   "id": "33e26e83",
   "metadata": {},
   "source": [
    "> - 문제지 : \n",
    ">    - 머신러닝 모델에게 입력되는 데이터. \n",
    ">    - feature라고 부르기도 함. \n",
    ">    - 변수 이름으로는 X를 많이 사용.\n",
    ">\n",
    "> - 정답지  :\n",
    ">    - 머신러닝 모델이 맞혀야 하는 데이터. \n",
    ">    - label 또는 target이라고 부름. \n",
    ">    - 변수 이름으로는 y를 많이 사용"
   ]
  },
  {
   "cell_type": "markdown",
   "id": "a758c776",
   "metadata": {},
   "source": [
    "#### 머신러닝 모델을 학습시키기 위한 장치\n",
    "- 학습에 사용하는 training dataset과 \n",
    "- 모델의 성능을 평가하는 데 사용하는 test dataset으로 데이터셋을 나누는 작업\n",
    "- 데이터셋을 분리하는 것은 scikit-learn이 제공하는 train_test_split 이라는 함수\n",
    "___\n",
    "    - sklearn.model_selection 패키지의 train_test_split을 활용\n",
    "    - training dataset과 test dataset을 분리"
   ]
  },
  {
   "cell_type": "code",
   "execution_count": 18,
   "id": "c0916c9d",
   "metadata": {},
   "outputs": [
    {
     "name": "stdout",
     "output_type": "stream",
     "text": [
      "X_train 개수:  120 , X_test 개수:  30\n"
     ]
    }
   ],
   "source": [
    "from sklearn.model_selection import train_test_split\n",
    "\n",
    "X_train, X_test, y_train, y_test = train_test_split(iris_data,      \n",
    "                                                    # iris_data는 문제지 :  feature\n",
    "                                                    iris_label,     \n",
    "                                                    # 맞춰야 할 정답값 : Label(3가지중)\n",
    "                                                    test_size=0.2,  \n",
    "                                                    # test dataset의 크기를 조절 : 전체의 20%만 테스트데이터로 사용\n",
    "                                                    random_state=7) \n",
    "                                                    # train 데이터와 test 데이터를 분리(split)하는데 적용되는 랜덤성\n",
    "\n",
    "print('X_train 개수: ', len(X_train),', X_test 개수: ', len(X_test))"
   ]
  },
  {
   "cell_type": "code",
   "execution_count": 19,
   "id": "c8b5fb90",
   "metadata": {},
   "outputs": [
    {
     "data": {
      "text/plain": [
       "((120, 4), (120,))"
      ]
     },
     "execution_count": 19,
     "metadata": {},
     "output_type": "execute_result"
    }
   ],
   "source": [
    "# X_train부터 y_test까지 만들어진 데이터셋을 확인\n",
    "X_train.shape, y_train.shape"
   ]
  },
  {
   "cell_type": "code",
   "execution_count": 20,
   "id": "bc279c13",
   "metadata": {},
   "outputs": [
    {
     "data": {
      "text/plain": [
       "((30, 4), (30,))"
      ]
     },
     "execution_count": 20,
     "metadata": {},
     "output_type": "execute_result"
    }
   ],
   "source": [
    "X_test.shape, y_test.shape"
   ]
  },
  {
   "cell_type": "markdown",
   "id": "5cacf5c7",
   "metadata": {},
   "source": [
    "> 20%의 데이터는 test 데이터셋 \n",
    ">  \n",
    "> 나머지 80%의 데이터는 train 데이터셋"
   ]
  },
  {
   "cell_type": "code",
   "execution_count": 21,
   "id": "d7c28e86",
   "metadata": {},
   "outputs": [
    {
     "data": {
      "text/plain": [
       "(array([2, 1, 0, 2, 1, 0, 0, 0, 0, 2, 2, 1, 2, 2, 1, 0, 1, 1, 2, 0, 0, 0,\n",
       "        2, 0, 2, 1, 1, 1, 0, 0, 0, 1, 2, 1, 1, 0, 2, 0, 0, 2, 2, 0, 2, 0,\n",
       "        1, 2, 1, 0, 1, 0, 2, 2, 1, 0, 0, 1, 2, 0, 2, 2, 1, 0, 1, 0, 2, 2,\n",
       "        0, 0, 2, 1, 2, 2, 1, 0, 0, 2, 0, 0, 1, 2, 2, 1, 1, 0, 2, 0, 0, 1,\n",
       "        1, 2, 0, 1, 1, 2, 2, 1, 2, 0, 1, 1, 0, 0, 0, 1, 1, 0, 2, 2, 1, 2,\n",
       "        0, 2, 1, 1, 0, 2, 1, 2, 1, 0]),\n",
       " array([2, 1, 0, 1, 2, 0, 1, 1, 0, 1, 1, 1, 0, 2, 0, 1, 2, 2, 0, 0, 1, 2,\n",
       "        1, 2, 2, 2, 1, 1, 2, 2]))"
      ]
     },
     "execution_count": 21,
     "metadata": {},
     "output_type": "execute_result"
    }
   ],
   "source": [
    "y_train, y_test"
   ]
  },
  {
   "cell_type": "markdown",
   "id": "f1ddcc8e",
   "metadata": {},
   "source": [
    "### 첫 번째 머신러닝 모델 학습시키기"
   ]
  },
  {
   "cell_type": "markdown",
   "id": "b193f3bb",
   "metadata": {},
   "source": [
    "#### 머신러닝\n",
    "1. 지도학습(Supervised Learning)\n",
    "    -  지도받을 수 있는, 즉 정답이 있는 문제에 대해 학습하는 것\n",
    "        - 분류(Classification)\n",
    "            -  입력받은 데이터를 특정 카테고리 중 하나로 분류해내는 문제\n",
    "        - 회귀(Regression)\n",
    "            -  입력받은 데이터에 따라 특정 필드의 수치를 맞히는 문제\n",
    "            \n",
    "\n",
    "2. 비지도학습(Unsupervised Learning)\n",
    "    - 비지도 학습은 정답이 없는 문제를 학습하는 것\n",
    "    \n",
    "    \n",
    "> 붓꽃은\n",
    "> Supervised Learning / Classification"
   ]
  },
  {
   "cell_type": "markdown",
   "id": "9f443214",
   "metadata": {},
   "source": [
    "#### 분류모델\n",
    "Decision Tree Model  \n",
    "- 참고 [의사결정나무](https://ratsgo.github.io/machine%20learning/2017/03/26/tree/)\n",
    "- 데이터를 분리해나가는 모습이 나무를 뒤집어 놓은 것과 같은 모양"
   ]
  },
  {
   "cell_type": "markdown",
   "id": "559e56bb",
   "metadata": {},
   "source": [
    "### 첫 번째 머신러닝 모델 평가하기"
   ]
  },
  {
   "cell_type": "markdown",
   "id": "d74d271e",
   "metadata": {},
   "source": [
    "### 다른 모델도 해 보고 싶다면? 코드 한 줄만 바꾸면 돼!"
   ]
  },
  {
   "cell_type": "markdown",
   "id": "236e40ec",
   "metadata": {},
   "source": [
    "## 내 모델은 얼마나 똑똑한가? 다양하게 평가해 보기"
   ]
  },
  {
   "cell_type": "markdown",
   "id": "8293ac27",
   "metadata": {},
   "source": [
    "### 정확도에는 함정이 있다"
   ]
  },
  {
   "cell_type": "markdown",
   "id": "fc5b0f2b",
   "metadata": {},
   "source": [
    "### 정답과 오답에도 종류가 있다!"
   ]
  },
  {
   "cell_type": "markdown",
   "id": "a00edcd1",
   "metadata": {},
   "source": [
    "## 데이터가 달라도 문제 없어요!"
   ]
  },
  {
   "cell_type": "markdown",
   "id": "0bef1b9e",
   "metadata": {},
   "source": [
    "## 프로젝트"
   ]
  },
  {
   "cell_type": "markdown",
   "id": "e4b0ac72",
   "metadata": {},
   "source": [
    "### load_digits : 손글씨를 분류해 봅시다"
   ]
  },
  {
   "cell_type": "markdown",
   "id": "8b0ab152",
   "metadata": {},
   "source": [
    "### load_wine : 와인을 분류해 봅시다"
   ]
  },
  {
   "cell_type": "markdown",
   "id": "b32bae14",
   "metadata": {},
   "source": [
    "### load_breast_cancer : 유방암 여부를 진단해 봅시다"
   ]
  },
  {
   "cell_type": "markdown",
   "id": "2641ab68",
   "metadata": {},
   "source": [
    "## 프로젝트 제출"
   ]
  }
 ],
 "metadata": {
  "hide_input": false,
  "kernelspec": {
   "display_name": "Python 3 (ipykernel)",
   "language": "python",
   "name": "python3"
  },
  "language_info": {
   "codemirror_mode": {
    "name": "ipython",
    "version": 3
   },
   "file_extension": ".py",
   "mimetype": "text/x-python",
   "name": "python",
   "nbconvert_exporter": "python",
   "pygments_lexer": "ipython3",
   "version": "3.9.7"
  },
  "toc": {
   "base_numbering": 1,
   "nav_menu": {},
   "number_sections": true,
   "sideBar": true,
   "skip_h1_title": false,
   "title_cell": "Table of Contents",
   "title_sidebar": "Contents",
   "toc_cell": false,
   "toc_position": {
    "height": "calc(100% - 180px)",
    "left": "10px",
    "top": "150px",
    "width": "382px"
   },
   "toc_section_display": true,
   "toc_window_display": true
  }
 },
 "nbformat": 4,
 "nbformat_minor": 5
}
